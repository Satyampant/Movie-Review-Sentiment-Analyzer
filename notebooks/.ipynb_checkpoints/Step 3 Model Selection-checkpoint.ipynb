{
 "cells": [
  {
   "cell_type": "code",
   "execution_count": 1,
   "id": "1fd56d44",
   "metadata": {},
   "outputs": [],
   "source": [
    "import sys\n",
    "import numpy as np\n",
    "import scipy as sp\n",
    "import sklearn as sk\n",
    "import pandas as pd\n",
    "import matplotlib.pyplot as plt\n",
    "from sklearn.tree import DecisionTreeClassifier\n",
    "from sklearn.ensemble import RandomForestClassifier\n",
    "from sklearn.ensemble import AdaBoostClassifier\n",
    "from sklearn.linear_model import LogisticRegression\n",
    "from sklearn.metrics import f1_score, roc_auc_score, precision_score, recall_score\n",
    "from sklearn.pipeline import make_pipeline\n",
    "from sklearn.pipeline import Pipeline"
   ]
  },
  {
   "cell_type": "code",
   "execution_count": 2,
   "id": "88657ffb",
   "metadata": {},
   "outputs": [],
   "source": [
    "x_train_tfidf = np.load(r\"..\\data\\x_train_tfidf.npy\", allow_pickle = True)\n",
    "x_test_tfidf = np.load(r\"..\\data\\x_test_tfidf.npy\", allow_pickle = True)\n",
    "y_train = np.load(r\"..\\data\\y_train.npy\", allow_pickle = True)\n",
    "y_test = np.load(r\"..\\data\\y_test.npy\", allow_pickle = True)"
   ]
  },
  {
   "cell_type": "markdown",
   "id": "4fdcc4f1",
   "metadata": {},
   "source": [
    "## Logistic Regression Model"
   ]
  },
  {
   "cell_type": "code",
   "execution_count": 2,
   "id": "63e3eaae",
   "metadata": {},
   "outputs": [],
   "source": [
    "model_1 = Pipeline(\n",
    "    steps = [\n",
    "        (\"classifier\", LogisticRegression())\n",
    "    ])"
   ]
  },
  {
   "cell_type": "markdown",
   "id": "d749aeaa",
   "metadata": {},
   "source": [
    "## Training of Logistic Regression model"
   ]
  },
  {
   "cell_type": "code",
   "execution_count": 6,
   "id": "50f93fdd",
   "metadata": {},
   "outputs": [
    {
     "name": "stdout",
     "output_type": "stream",
     "text": [
      "CPU times: total: 3.62 s\n",
      "Wall time: 2.73 s\n"
     ]
    },
    {
     "data": {
      "text/html": [
       "<style>#sk-container-id-1 {color: black;background-color: white;}#sk-container-id-1 pre{padding: 0;}#sk-container-id-1 div.sk-toggleable {background-color: white;}#sk-container-id-1 label.sk-toggleable__label {cursor: pointer;display: block;width: 100%;margin-bottom: 0;padding: 0.3em;box-sizing: border-box;text-align: center;}#sk-container-id-1 label.sk-toggleable__label-arrow:before {content: \"▸\";float: left;margin-right: 0.25em;color: #696969;}#sk-container-id-1 label.sk-toggleable__label-arrow:hover:before {color: black;}#sk-container-id-1 div.sk-estimator:hover label.sk-toggleable__label-arrow:before {color: black;}#sk-container-id-1 div.sk-toggleable__content {max-height: 0;max-width: 0;overflow: hidden;text-align: left;background-color: #f0f8ff;}#sk-container-id-1 div.sk-toggleable__content pre {margin: 0.2em;color: black;border-radius: 0.25em;background-color: #f0f8ff;}#sk-container-id-1 input.sk-toggleable__control:checked~div.sk-toggleable__content {max-height: 200px;max-width: 100%;overflow: auto;}#sk-container-id-1 input.sk-toggleable__control:checked~label.sk-toggleable__label-arrow:before {content: \"▾\";}#sk-container-id-1 div.sk-estimator input.sk-toggleable__control:checked~label.sk-toggleable__label {background-color: #d4ebff;}#sk-container-id-1 div.sk-label input.sk-toggleable__control:checked~label.sk-toggleable__label {background-color: #d4ebff;}#sk-container-id-1 input.sk-hidden--visually {border: 0;clip: rect(1px 1px 1px 1px);clip: rect(1px, 1px, 1px, 1px);height: 1px;margin: -1px;overflow: hidden;padding: 0;position: absolute;width: 1px;}#sk-container-id-1 div.sk-estimator {font-family: monospace;background-color: #f0f8ff;border: 1px dotted black;border-radius: 0.25em;box-sizing: border-box;margin-bottom: 0.5em;}#sk-container-id-1 div.sk-estimator:hover {background-color: #d4ebff;}#sk-container-id-1 div.sk-parallel-item::after {content: \"\";width: 100%;border-bottom: 1px solid gray;flex-grow: 1;}#sk-container-id-1 div.sk-label:hover label.sk-toggleable__label {background-color: #d4ebff;}#sk-container-id-1 div.sk-serial::before {content: \"\";position: absolute;border-left: 1px solid gray;box-sizing: border-box;top: 0;bottom: 0;left: 50%;z-index: 0;}#sk-container-id-1 div.sk-serial {display: flex;flex-direction: column;align-items: center;background-color: white;padding-right: 0.2em;padding-left: 0.2em;position: relative;}#sk-container-id-1 div.sk-item {position: relative;z-index: 1;}#sk-container-id-1 div.sk-parallel {display: flex;align-items: stretch;justify-content: center;background-color: white;position: relative;}#sk-container-id-1 div.sk-item::before, #sk-container-id-1 div.sk-parallel-item::before {content: \"\";position: absolute;border-left: 1px solid gray;box-sizing: border-box;top: 0;bottom: 0;left: 50%;z-index: -1;}#sk-container-id-1 div.sk-parallel-item {display: flex;flex-direction: column;z-index: 1;position: relative;background-color: white;}#sk-container-id-1 div.sk-parallel-item:first-child::after {align-self: flex-end;width: 50%;}#sk-container-id-1 div.sk-parallel-item:last-child::after {align-self: flex-start;width: 50%;}#sk-container-id-1 div.sk-parallel-item:only-child::after {width: 0;}#sk-container-id-1 div.sk-dashed-wrapped {border: 1px dashed gray;margin: 0 0.4em 0.5em 0.4em;box-sizing: border-box;padding-bottom: 0.4em;background-color: white;}#sk-container-id-1 div.sk-label label {font-family: monospace;font-weight: bold;display: inline-block;line-height: 1.2em;}#sk-container-id-1 div.sk-label-container {text-align: center;}#sk-container-id-1 div.sk-container {/* jupyter's `normalize.less` sets `[hidden] { display: none; }` but bootstrap.min.css set `[hidden] { display: none !important; }` so we also need the `!important` here to be able to override the default hidden behavior on the sphinx rendered scikit-learn.org. See: https://github.com/scikit-learn/scikit-learn/issues/21755 */display: inline-block !important;position: relative;}#sk-container-id-1 div.sk-text-repr-fallback {display: none;}</style><div id=\"sk-container-id-1\" class=\"sk-top-container\"><div class=\"sk-text-repr-fallback\"><pre>Pipeline(steps=[(&#x27;classifier&#x27;, LogisticRegression())])</pre><b>In a Jupyter environment, please rerun this cell to show the HTML representation or trust the notebook. <br />On GitHub, the HTML representation is unable to render, please try loading this page with nbviewer.org.</b></div><div class=\"sk-container\" hidden><div class=\"sk-item sk-dashed-wrapped\"><div class=\"sk-label-container\"><div class=\"sk-label sk-toggleable\"><input class=\"sk-toggleable__control sk-hidden--visually\" id=\"sk-estimator-id-1\" type=\"checkbox\" ><label for=\"sk-estimator-id-1\" class=\"sk-toggleable__label sk-toggleable__label-arrow\">Pipeline</label><div class=\"sk-toggleable__content\"><pre>Pipeline(steps=[(&#x27;classifier&#x27;, LogisticRegression())])</pre></div></div></div><div class=\"sk-serial\"><div class=\"sk-item\"><div class=\"sk-estimator sk-toggleable\"><input class=\"sk-toggleable__control sk-hidden--visually\" id=\"sk-estimator-id-2\" type=\"checkbox\" ><label for=\"sk-estimator-id-2\" class=\"sk-toggleable__label sk-toggleable__label-arrow\">LogisticRegression</label><div class=\"sk-toggleable__content\"><pre>LogisticRegression()</pre></div></div></div></div></div></div></div>"
      ],
      "text/plain": [
       "Pipeline(steps=[('classifier', LogisticRegression())])"
      ]
     },
     "execution_count": 6,
     "metadata": {},
     "output_type": "execute_result"
    }
   ],
   "source": [
    "%%time\n",
    "model_1.fit(x_train_tfidf, y_train)"
   ]
  },
  {
   "cell_type": "code",
   "execution_count": 8,
   "id": "77e92fb7",
   "metadata": {},
   "outputs": [],
   "source": [
    "y_pred_test = model_1.predict(x_test_tfidf)\n",
    "y_pred_train = model_1.predict(x_train_tfidf)"
   ]
  },
  {
   "cell_type": "markdown",
   "id": "679d6fdc",
   "metadata": {},
   "source": [
    "## Evaluation on test and train dataset"
   ]
  },
  {
   "cell_type": "code",
   "execution_count": 9,
   "id": "89c9be2d",
   "metadata": {},
   "outputs": [
    {
     "name": "stdout",
     "output_type": "stream",
     "text": [
      "Precision Score on training dateset for Logistic Regression: 0.8209255533199196\n",
      "AUC Score on training dateset for Logistic Regression: 0.9031046217459942\n",
      "F1 Score ftraining dateset for Logistic Regression: 0.8209152673654605\n",
      "Precision Score on test for Logistic Regression: 0.8154341907883771\n",
      "AUC Score on test for Logistic Regression: 0.8980153356644363\n",
      "F1 Score for Logistic Regression: 0.8154319597973213\n",
      "CPU times: total: 3.91 s\n",
      "Wall time: 5.52 s\n"
     ]
    }
   ],
   "source": [
    "%%time\n",
    "print(\"Precision Score on training dateset for Logistic Regression: %s\" % precision_score(y_train,y_pred_train,average='micro'))\n",
    "print(\"AUC Score on training dateset for Logistic Regression: %s\" % roc_auc_score(y_train,model_1.predict_proba(x_train_tfidf)[:,1],multi_class='ovo',average='macro'))\n",
    "f1_score_train_1 =f1_score(y_train,y_pred_train,average=\"weighted\")\n",
    "print(\"F1 Score ftraining dateset for Logistic Regression: %s\" % f1_score_train_1)\n",
    "print(\"Precision Score on test for Logistic Regression: %s\" % precision_score(y_test,y_pred_test,average='micro'))\n",
    "print(\"AUC Score on test for Logistic Regression: %s\" % roc_auc_score(y_test,model_1.predict_proba(x_test_tfidf)[:,1],multi_class='ovo',average='macro'))\n",
    "f1_score_1 =f1_score(y_test,y_pred_test,average=\"weighted\")\n",
    "print(\"F1 Score for Logistic Regression: %s\" % f1_score_1)"
   ]
  },
  {
   "cell_type": "markdown",
   "id": "7557efc5",
   "metadata": {},
   "source": [
    "## Decision Tree Classifier"
   ]
  },
  {
   "cell_type": "code",
   "execution_count": 10,
   "id": "2dac6459",
   "metadata": {},
   "outputs": [],
   "source": [
    "model_2 = Pipeline(\n",
    "    steps = [\n",
    "        (\"classifier\", DecisionTreeClassifier())\n",
    "    ])"
   ]
  },
  {
   "cell_type": "markdown",
   "id": "7da5b82c",
   "metadata": {},
   "source": [
    "## Training Decision tree classifier"
   ]
  },
  {
   "cell_type": "code",
   "execution_count": 11,
   "id": "02735281",
   "metadata": {},
   "outputs": [
    {
     "name": "stdout",
     "output_type": "stream",
     "text": [
      "CPU times: total: 39.9 s\n",
      "Wall time: 1min 19s\n"
     ]
    },
    {
     "data": {
      "text/html": [
       "<style>#sk-container-id-2 {color: black;background-color: white;}#sk-container-id-2 pre{padding: 0;}#sk-container-id-2 div.sk-toggleable {background-color: white;}#sk-container-id-2 label.sk-toggleable__label {cursor: pointer;display: block;width: 100%;margin-bottom: 0;padding: 0.3em;box-sizing: border-box;text-align: center;}#sk-container-id-2 label.sk-toggleable__label-arrow:before {content: \"▸\";float: left;margin-right: 0.25em;color: #696969;}#sk-container-id-2 label.sk-toggleable__label-arrow:hover:before {color: black;}#sk-container-id-2 div.sk-estimator:hover label.sk-toggleable__label-arrow:before {color: black;}#sk-container-id-2 div.sk-toggleable__content {max-height: 0;max-width: 0;overflow: hidden;text-align: left;background-color: #f0f8ff;}#sk-container-id-2 div.sk-toggleable__content pre {margin: 0.2em;color: black;border-radius: 0.25em;background-color: #f0f8ff;}#sk-container-id-2 input.sk-toggleable__control:checked~div.sk-toggleable__content {max-height: 200px;max-width: 100%;overflow: auto;}#sk-container-id-2 input.sk-toggleable__control:checked~label.sk-toggleable__label-arrow:before {content: \"▾\";}#sk-container-id-2 div.sk-estimator input.sk-toggleable__control:checked~label.sk-toggleable__label {background-color: #d4ebff;}#sk-container-id-2 div.sk-label input.sk-toggleable__control:checked~label.sk-toggleable__label {background-color: #d4ebff;}#sk-container-id-2 input.sk-hidden--visually {border: 0;clip: rect(1px 1px 1px 1px);clip: rect(1px, 1px, 1px, 1px);height: 1px;margin: -1px;overflow: hidden;padding: 0;position: absolute;width: 1px;}#sk-container-id-2 div.sk-estimator {font-family: monospace;background-color: #f0f8ff;border: 1px dotted black;border-radius: 0.25em;box-sizing: border-box;margin-bottom: 0.5em;}#sk-container-id-2 div.sk-estimator:hover {background-color: #d4ebff;}#sk-container-id-2 div.sk-parallel-item::after {content: \"\";width: 100%;border-bottom: 1px solid gray;flex-grow: 1;}#sk-container-id-2 div.sk-label:hover label.sk-toggleable__label {background-color: #d4ebff;}#sk-container-id-2 div.sk-serial::before {content: \"\";position: absolute;border-left: 1px solid gray;box-sizing: border-box;top: 0;bottom: 0;left: 50%;z-index: 0;}#sk-container-id-2 div.sk-serial {display: flex;flex-direction: column;align-items: center;background-color: white;padding-right: 0.2em;padding-left: 0.2em;position: relative;}#sk-container-id-2 div.sk-item {position: relative;z-index: 1;}#sk-container-id-2 div.sk-parallel {display: flex;align-items: stretch;justify-content: center;background-color: white;position: relative;}#sk-container-id-2 div.sk-item::before, #sk-container-id-2 div.sk-parallel-item::before {content: \"\";position: absolute;border-left: 1px solid gray;box-sizing: border-box;top: 0;bottom: 0;left: 50%;z-index: -1;}#sk-container-id-2 div.sk-parallel-item {display: flex;flex-direction: column;z-index: 1;position: relative;background-color: white;}#sk-container-id-2 div.sk-parallel-item:first-child::after {align-self: flex-end;width: 50%;}#sk-container-id-2 div.sk-parallel-item:last-child::after {align-self: flex-start;width: 50%;}#sk-container-id-2 div.sk-parallel-item:only-child::after {width: 0;}#sk-container-id-2 div.sk-dashed-wrapped {border: 1px dashed gray;margin: 0 0.4em 0.5em 0.4em;box-sizing: border-box;padding-bottom: 0.4em;background-color: white;}#sk-container-id-2 div.sk-label label {font-family: monospace;font-weight: bold;display: inline-block;line-height: 1.2em;}#sk-container-id-2 div.sk-label-container {text-align: center;}#sk-container-id-2 div.sk-container {/* jupyter's `normalize.less` sets `[hidden] { display: none; }` but bootstrap.min.css set `[hidden] { display: none !important; }` so we also need the `!important` here to be able to override the default hidden behavior on the sphinx rendered scikit-learn.org. See: https://github.com/scikit-learn/scikit-learn/issues/21755 */display: inline-block !important;position: relative;}#sk-container-id-2 div.sk-text-repr-fallback {display: none;}</style><div id=\"sk-container-id-2\" class=\"sk-top-container\"><div class=\"sk-text-repr-fallback\"><pre>Pipeline(steps=[(&#x27;classifier&#x27;, DecisionTreeClassifier())])</pre><b>In a Jupyter environment, please rerun this cell to show the HTML representation or trust the notebook. <br />On GitHub, the HTML representation is unable to render, please try loading this page with nbviewer.org.</b></div><div class=\"sk-container\" hidden><div class=\"sk-item sk-dashed-wrapped\"><div class=\"sk-label-container\"><div class=\"sk-label sk-toggleable\"><input class=\"sk-toggleable__control sk-hidden--visually\" id=\"sk-estimator-id-3\" type=\"checkbox\" ><label for=\"sk-estimator-id-3\" class=\"sk-toggleable__label sk-toggleable__label-arrow\">Pipeline</label><div class=\"sk-toggleable__content\"><pre>Pipeline(steps=[(&#x27;classifier&#x27;, DecisionTreeClassifier())])</pre></div></div></div><div class=\"sk-serial\"><div class=\"sk-item\"><div class=\"sk-estimator sk-toggleable\"><input class=\"sk-toggleable__control sk-hidden--visually\" id=\"sk-estimator-id-4\" type=\"checkbox\" ><label for=\"sk-estimator-id-4\" class=\"sk-toggleable__label sk-toggleable__label-arrow\">DecisionTreeClassifier</label><div class=\"sk-toggleable__content\"><pre>DecisionTreeClassifier()</pre></div></div></div></div></div></div></div>"
      ],
      "text/plain": [
       "Pipeline(steps=[('classifier', DecisionTreeClassifier())])"
      ]
     },
     "execution_count": 11,
     "metadata": {},
     "output_type": "execute_result"
    }
   ],
   "source": [
    "%%time\n",
    "model_2.fit(x_train_tfidf, y_train)"
   ]
  },
  {
   "cell_type": "markdown",
   "id": "0cdbbbc0",
   "metadata": {},
   "source": [
    "## Evaluation on test data and train data of Decision Tree Classifier"
   ]
  },
  {
   "cell_type": "code",
   "execution_count": 12,
   "id": "2aaae567",
   "metadata": {},
   "outputs": [
    {
     "name": "stdout",
     "output_type": "stream",
     "text": [
      "Precision Score on training dateset for Decision Tree Classifier: 0.999464241067708\n",
      "AUC Score on training dateset for Decision Tree Classifier: 0.9999991597122366\n",
      "F1 Score training dateset for Decision Tree Classifier: 0.9994642419146246\n",
      "Precision Score on test for Decision Tree Classifier: 0.6838157675426413\n",
      "AUC Score on test for Decision Tree Classifier: 0.6840022292422882\n",
      "F1 Score for Decision Tree Classifier: 0.6838202209863015\n",
      "CPU times: total: 3.36 s\n",
      "Wall time: 6.21 s\n"
     ]
    }
   ],
   "source": [
    "%%time\n",
    "print(\"Precision Score on training dateset for Decision Tree Classifier: %s\" % precision_score(y_train,model_2.predict(x_train_tfidf),average='micro'))\n",
    "print(\"AUC Score on training dateset for Decision Tree Classifier: %s\" % roc_auc_score(y_train,model_2.predict_proba(x_train_tfidf)[:,1],multi_class='ovo',average='macro'))\n",
    "f1_score_train_2 =f1_score(y_train,model_2.predict(x_train_tfidf),average=\"weighted\")\n",
    "print(\"F1 Score training dateset for Decision Tree Classifier: %s\" % f1_score_train_2)\n",
    "print(\"Precision Score on test for Decision Tree Classifier: %s\" % precision_score(y_test,model_2.predict(x_test_tfidf),average='micro'))\n",
    "print(\"AUC Score on test for Decision Tree Classifier: %s\" % roc_auc_score(y_test,model_2.predict_proba(x_test_tfidf)[:,1],multi_class='ovo',average='macro'))\n",
    "f1_score_2 =f1_score(y_test,model_2.predict(x_test_tfidf),average=\"weighted\")\n",
    "print(\"F1 Score for Decision Tree Classifier: %s\" % f1_score_2)"
   ]
  },
  {
   "cell_type": "markdown",
   "id": "677ede01",
   "metadata": {},
   "source": [
    "## Decision Tree Classifier with max depth 11 to fix overfit"
   ]
  },
  {
   "cell_type": "code",
   "execution_count": 4,
   "id": "edbd009d",
   "metadata": {},
   "outputs": [],
   "source": [
    "model_3 = Pipeline(\n",
    "    steps = [\n",
    "        (\"classifier\", DecisionTreeClassifier(criterion='gini', max_depth=11, min_samples_split=2, min_samples_leaf=1))\n",
    "    ])"
   ]
  },
  {
   "cell_type": "code",
   "execution_count": 5,
   "id": "ae042aa1",
   "metadata": {},
   "outputs": [
    {
     "name": "stdout",
     "output_type": "stream",
     "text": [
      "CPU times: total: 13.9 s\n",
      "Wall time: 22.1 s\n"
     ]
    },
    {
     "data": {
      "text/html": [
       "<style>#sk-container-id-1 {color: black;background-color: white;}#sk-container-id-1 pre{padding: 0;}#sk-container-id-1 div.sk-toggleable {background-color: white;}#sk-container-id-1 label.sk-toggleable__label {cursor: pointer;display: block;width: 100%;margin-bottom: 0;padding: 0.3em;box-sizing: border-box;text-align: center;}#sk-container-id-1 label.sk-toggleable__label-arrow:before {content: \"▸\";float: left;margin-right: 0.25em;color: #696969;}#sk-container-id-1 label.sk-toggleable__label-arrow:hover:before {color: black;}#sk-container-id-1 div.sk-estimator:hover label.sk-toggleable__label-arrow:before {color: black;}#sk-container-id-1 div.sk-toggleable__content {max-height: 0;max-width: 0;overflow: hidden;text-align: left;background-color: #f0f8ff;}#sk-container-id-1 div.sk-toggleable__content pre {margin: 0.2em;color: black;border-radius: 0.25em;background-color: #f0f8ff;}#sk-container-id-1 input.sk-toggleable__control:checked~div.sk-toggleable__content {max-height: 200px;max-width: 100%;overflow: auto;}#sk-container-id-1 input.sk-toggleable__control:checked~label.sk-toggleable__label-arrow:before {content: \"▾\";}#sk-container-id-1 div.sk-estimator input.sk-toggleable__control:checked~label.sk-toggleable__label {background-color: #d4ebff;}#sk-container-id-1 div.sk-label input.sk-toggleable__control:checked~label.sk-toggleable__label {background-color: #d4ebff;}#sk-container-id-1 input.sk-hidden--visually {border: 0;clip: rect(1px 1px 1px 1px);clip: rect(1px, 1px, 1px, 1px);height: 1px;margin: -1px;overflow: hidden;padding: 0;position: absolute;width: 1px;}#sk-container-id-1 div.sk-estimator {font-family: monospace;background-color: #f0f8ff;border: 1px dotted black;border-radius: 0.25em;box-sizing: border-box;margin-bottom: 0.5em;}#sk-container-id-1 div.sk-estimator:hover {background-color: #d4ebff;}#sk-container-id-1 div.sk-parallel-item::after {content: \"\";width: 100%;border-bottom: 1px solid gray;flex-grow: 1;}#sk-container-id-1 div.sk-label:hover label.sk-toggleable__label {background-color: #d4ebff;}#sk-container-id-1 div.sk-serial::before {content: \"\";position: absolute;border-left: 1px solid gray;box-sizing: border-box;top: 0;bottom: 0;left: 50%;z-index: 0;}#sk-container-id-1 div.sk-serial {display: flex;flex-direction: column;align-items: center;background-color: white;padding-right: 0.2em;padding-left: 0.2em;position: relative;}#sk-container-id-1 div.sk-item {position: relative;z-index: 1;}#sk-container-id-1 div.sk-parallel {display: flex;align-items: stretch;justify-content: center;background-color: white;position: relative;}#sk-container-id-1 div.sk-item::before, #sk-container-id-1 div.sk-parallel-item::before {content: \"\";position: absolute;border-left: 1px solid gray;box-sizing: border-box;top: 0;bottom: 0;left: 50%;z-index: -1;}#sk-container-id-1 div.sk-parallel-item {display: flex;flex-direction: column;z-index: 1;position: relative;background-color: white;}#sk-container-id-1 div.sk-parallel-item:first-child::after {align-self: flex-end;width: 50%;}#sk-container-id-1 div.sk-parallel-item:last-child::after {align-self: flex-start;width: 50%;}#sk-container-id-1 div.sk-parallel-item:only-child::after {width: 0;}#sk-container-id-1 div.sk-dashed-wrapped {border: 1px dashed gray;margin: 0 0.4em 0.5em 0.4em;box-sizing: border-box;padding-bottom: 0.4em;background-color: white;}#sk-container-id-1 div.sk-label label {font-family: monospace;font-weight: bold;display: inline-block;line-height: 1.2em;}#sk-container-id-1 div.sk-label-container {text-align: center;}#sk-container-id-1 div.sk-container {/* jupyter's `normalize.less` sets `[hidden] { display: none; }` but bootstrap.min.css set `[hidden] { display: none !important; }` so we also need the `!important` here to be able to override the default hidden behavior on the sphinx rendered scikit-learn.org. See: https://github.com/scikit-learn/scikit-learn/issues/21755 */display: inline-block !important;position: relative;}#sk-container-id-1 div.sk-text-repr-fallback {display: none;}</style><div id=\"sk-container-id-1\" class=\"sk-top-container\"><div class=\"sk-text-repr-fallback\"><pre>Pipeline(steps=[(&#x27;classifier&#x27;, DecisionTreeClassifier(max_depth=11))])</pre><b>In a Jupyter environment, please rerun this cell to show the HTML representation or trust the notebook. <br />On GitHub, the HTML representation is unable to render, please try loading this page with nbviewer.org.</b></div><div class=\"sk-container\" hidden><div class=\"sk-item sk-dashed-wrapped\"><div class=\"sk-label-container\"><div class=\"sk-label sk-toggleable\"><input class=\"sk-toggleable__control sk-hidden--visually\" id=\"sk-estimator-id-1\" type=\"checkbox\" ><label for=\"sk-estimator-id-1\" class=\"sk-toggleable__label sk-toggleable__label-arrow\">Pipeline</label><div class=\"sk-toggleable__content\"><pre>Pipeline(steps=[(&#x27;classifier&#x27;, DecisionTreeClassifier(max_depth=11))])</pre></div></div></div><div class=\"sk-serial\"><div class=\"sk-item\"><div class=\"sk-estimator sk-toggleable\"><input class=\"sk-toggleable__control sk-hidden--visually\" id=\"sk-estimator-id-2\" type=\"checkbox\" ><label for=\"sk-estimator-id-2\" class=\"sk-toggleable__label sk-toggleable__label-arrow\">DecisionTreeClassifier</label><div class=\"sk-toggleable__content\"><pre>DecisionTreeClassifier(max_depth=11)</pre></div></div></div></div></div></div></div>"
      ],
      "text/plain": [
       "Pipeline(steps=[('classifier', DecisionTreeClassifier(max_depth=11))])"
      ]
     },
     "execution_count": 5,
     "metadata": {},
     "output_type": "execute_result"
    }
   ],
   "source": [
    "%%time\n",
    "model_3.fit(x_train_tfidf, y_train)"
   ]
  },
  {
   "cell_type": "code",
   "execution_count": 6,
   "id": "5b83e2ba",
   "metadata": {},
   "outputs": [
    {
     "name": "stdout",
     "output_type": "stream",
     "text": [
      "Precision Score on training dateset for Decision Tree Classifier: 0.7167859226364102\n",
      "AUC Score on training dateset for Decision Tree Classifier: 0.8023143432948144\n",
      "F1 Score training dateset for Decision Tree Classifier: 0.714316783362288\n",
      "Precision Score on test for Decision Tree Classifier: 0.6934551919551086\n",
      "AUC Score on test for Decision Tree Classifier: 0.7573288609161214\n",
      "F1 Score for Decision Tree Classifier: 0.6907759645745841\n",
      "CPU times: total: 3.44 s\n",
      "Wall time: 4.64 s\n"
     ]
    }
   ],
   "source": [
    "%%time\n",
    "print(\"Precision Score on training dateset for Decision Tree Classifier: %s\" % precision_score(y_train,model_3.predict(x_train_tfidf),average='micro'))\n",
    "print(\"AUC Score on training dateset for Decision Tree Classifier: %s\" % roc_auc_score(y_train,model_3.predict_proba(x_train_tfidf)[:,1],multi_class='ovo',average='macro'))\n",
    "f1_score_train_3 =f1_score(y_train,model_3.predict(x_train_tfidf),average=\"weighted\")\n",
    "print(\"F1 Score training dateset for Decision Tree Classifier: %s\" % f1_score_train_3)\n",
    "print(\"Precision Score on test for Decision Tree Classifier: %s\" % precision_score(y_test,model_3.predict(x_test_tfidf),average='micro'))\n",
    "print(\"AUC Score on test for Decision Tree Classifier: %s\" % roc_auc_score(y_test,model_3.predict_proba(x_test_tfidf)[:,1],multi_class='ovo',average='macro'))\n",
    "f1_score_3 =f1_score(y_test,model_3.predict(x_test_tfidf),average=\"weighted\")\n",
    "print(\"F1 Score for Decision Tree Classifier: %s\" % f1_score_3)"
   ]
  },
  {
   "cell_type": "markdown",
   "id": "4605d3f0",
   "metadata": {},
   "source": [
    "## Random Forest Classifier"
   ]
  },
  {
   "cell_type": "code",
   "execution_count": 7,
   "id": "249c701b",
   "metadata": {},
   "outputs": [],
   "source": [
    "model_4 = Pipeline(\n",
    "    steps=[\n",
    "        (\"classifier\", RandomForestClassifier())\n",
    "    ])"
   ]
  },
  {
   "cell_type": "markdown",
   "id": "be0c2658",
   "metadata": {},
   "source": [
    "## Training Random Forest Classifier"
   ]
  },
  {
   "cell_type": "code",
   "execution_count": 8,
   "id": "b14946a4",
   "metadata": {},
   "outputs": [
    {
     "name": "stdout",
     "output_type": "stream",
     "text": [
      "CPU times: total: 2min 28s\n",
      "Wall time: 3min 48s\n"
     ]
    },
    {
     "data": {
      "text/html": [
       "<style>#sk-container-id-2 {color: black;background-color: white;}#sk-container-id-2 pre{padding: 0;}#sk-container-id-2 div.sk-toggleable {background-color: white;}#sk-container-id-2 label.sk-toggleable__label {cursor: pointer;display: block;width: 100%;margin-bottom: 0;padding: 0.3em;box-sizing: border-box;text-align: center;}#sk-container-id-2 label.sk-toggleable__label-arrow:before {content: \"▸\";float: left;margin-right: 0.25em;color: #696969;}#sk-container-id-2 label.sk-toggleable__label-arrow:hover:before {color: black;}#sk-container-id-2 div.sk-estimator:hover label.sk-toggleable__label-arrow:before {color: black;}#sk-container-id-2 div.sk-toggleable__content {max-height: 0;max-width: 0;overflow: hidden;text-align: left;background-color: #f0f8ff;}#sk-container-id-2 div.sk-toggleable__content pre {margin: 0.2em;color: black;border-radius: 0.25em;background-color: #f0f8ff;}#sk-container-id-2 input.sk-toggleable__control:checked~div.sk-toggleable__content {max-height: 200px;max-width: 100%;overflow: auto;}#sk-container-id-2 input.sk-toggleable__control:checked~label.sk-toggleable__label-arrow:before {content: \"▾\";}#sk-container-id-2 div.sk-estimator input.sk-toggleable__control:checked~label.sk-toggleable__label {background-color: #d4ebff;}#sk-container-id-2 div.sk-label input.sk-toggleable__control:checked~label.sk-toggleable__label {background-color: #d4ebff;}#sk-container-id-2 input.sk-hidden--visually {border: 0;clip: rect(1px 1px 1px 1px);clip: rect(1px, 1px, 1px, 1px);height: 1px;margin: -1px;overflow: hidden;padding: 0;position: absolute;width: 1px;}#sk-container-id-2 div.sk-estimator {font-family: monospace;background-color: #f0f8ff;border: 1px dotted black;border-radius: 0.25em;box-sizing: border-box;margin-bottom: 0.5em;}#sk-container-id-2 div.sk-estimator:hover {background-color: #d4ebff;}#sk-container-id-2 div.sk-parallel-item::after {content: \"\";width: 100%;border-bottom: 1px solid gray;flex-grow: 1;}#sk-container-id-2 div.sk-label:hover label.sk-toggleable__label {background-color: #d4ebff;}#sk-container-id-2 div.sk-serial::before {content: \"\";position: absolute;border-left: 1px solid gray;box-sizing: border-box;top: 0;bottom: 0;left: 50%;z-index: 0;}#sk-container-id-2 div.sk-serial {display: flex;flex-direction: column;align-items: center;background-color: white;padding-right: 0.2em;padding-left: 0.2em;position: relative;}#sk-container-id-2 div.sk-item {position: relative;z-index: 1;}#sk-container-id-2 div.sk-parallel {display: flex;align-items: stretch;justify-content: center;background-color: white;position: relative;}#sk-container-id-2 div.sk-item::before, #sk-container-id-2 div.sk-parallel-item::before {content: \"\";position: absolute;border-left: 1px solid gray;box-sizing: border-box;top: 0;bottom: 0;left: 50%;z-index: -1;}#sk-container-id-2 div.sk-parallel-item {display: flex;flex-direction: column;z-index: 1;position: relative;background-color: white;}#sk-container-id-2 div.sk-parallel-item:first-child::after {align-self: flex-end;width: 50%;}#sk-container-id-2 div.sk-parallel-item:last-child::after {align-self: flex-start;width: 50%;}#sk-container-id-2 div.sk-parallel-item:only-child::after {width: 0;}#sk-container-id-2 div.sk-dashed-wrapped {border: 1px dashed gray;margin: 0 0.4em 0.5em 0.4em;box-sizing: border-box;padding-bottom: 0.4em;background-color: white;}#sk-container-id-2 div.sk-label label {font-family: monospace;font-weight: bold;display: inline-block;line-height: 1.2em;}#sk-container-id-2 div.sk-label-container {text-align: center;}#sk-container-id-2 div.sk-container {/* jupyter's `normalize.less` sets `[hidden] { display: none; }` but bootstrap.min.css set `[hidden] { display: none !important; }` so we also need the `!important` here to be able to override the default hidden behavior on the sphinx rendered scikit-learn.org. See: https://github.com/scikit-learn/scikit-learn/issues/21755 */display: inline-block !important;position: relative;}#sk-container-id-2 div.sk-text-repr-fallback {display: none;}</style><div id=\"sk-container-id-2\" class=\"sk-top-container\"><div class=\"sk-text-repr-fallback\"><pre>Pipeline(steps=[(&#x27;classifier&#x27;, RandomForestClassifier())])</pre><b>In a Jupyter environment, please rerun this cell to show the HTML representation or trust the notebook. <br />On GitHub, the HTML representation is unable to render, please try loading this page with nbviewer.org.</b></div><div class=\"sk-container\" hidden><div class=\"sk-item sk-dashed-wrapped\"><div class=\"sk-label-container\"><div class=\"sk-label sk-toggleable\"><input class=\"sk-toggleable__control sk-hidden--visually\" id=\"sk-estimator-id-3\" type=\"checkbox\" ><label for=\"sk-estimator-id-3\" class=\"sk-toggleable__label sk-toggleable__label-arrow\">Pipeline</label><div class=\"sk-toggleable__content\"><pre>Pipeline(steps=[(&#x27;classifier&#x27;, RandomForestClassifier())])</pre></div></div></div><div class=\"sk-serial\"><div class=\"sk-item\"><div class=\"sk-estimator sk-toggleable\"><input class=\"sk-toggleable__control sk-hidden--visually\" id=\"sk-estimator-id-4\" type=\"checkbox\" ><label for=\"sk-estimator-id-4\" class=\"sk-toggleable__label sk-toggleable__label-arrow\">RandomForestClassifier</label><div class=\"sk-toggleable__content\"><pre>RandomForestClassifier()</pre></div></div></div></div></div></div></div>"
      ],
      "text/plain": [
       "Pipeline(steps=[('classifier', RandomForestClassifier())])"
      ]
     },
     "execution_count": 8,
     "metadata": {},
     "output_type": "execute_result"
    }
   ],
   "source": [
    "%%time\n",
    "model_4.fit(x_train_tfidf, y_train)"
   ]
  },
  {
   "cell_type": "markdown",
   "id": "7a042390",
   "metadata": {},
   "source": [
    "## Evaluation on test and train data of Randodom Forest Classifier"
   ]
  },
  {
   "cell_type": "code",
   "execution_count": 9,
   "id": "0703eae5",
   "metadata": {},
   "outputs": [
    {
     "name": "stdout",
     "output_type": "stream",
     "text": [
      "Precision Score on training dateset for Decision Tree Classifier: 0.999464241067708\n",
      "AUC Score on training dateset for Decision Tree Classifier: 0.9999857343858771\n",
      "F1 Score training dateset for Decision Tree Classifier: 0.9994642416541405\n",
      "Precision Score on test for Decision Tree Classifier: 0.7927662647924885\n",
      "AUC Score on test for Decision Tree Classifier: 0.8725622979822492\n",
      "F1 Score for Decision Tree Classifier: 0.7927584983431157\n",
      "CPU times: total: 21.4 s\n",
      "Wall time: 34.1 s\n"
     ]
    }
   ],
   "source": [
    "%%time\n",
    "print(\"Precision Score on training dateset for Decision Tree Classifier: %s\" % precision_score(y_train,model_4.predict(x_train_tfidf),average='micro'))\n",
    "print(\"AUC Score on training dateset for Decision Tree Classifier: %s\" % roc_auc_score(y_train,model_4.predict_proba(x_train_tfidf)[:,1],multi_class='ovo',average='macro'))\n",
    "f1_score_train_4 =f1_score(y_train,model_4.predict(x_train_tfidf),average=\"weighted\")\n",
    "print(\"F1 Score training dateset for Decision Tree Classifier: %s\" % f1_score_train_4)\n",
    "print(\"Precision Score on test for Decision Tree Classifier: %s\" % precision_score(y_test,model_4.predict(x_test_tfidf),average='micro'))\n",
    "print(\"AUC Score on test for Decision Tree Classifier: %s\" % roc_auc_score(y_test,model_4.predict_proba(x_test_tfidf)[:,1],multi_class='ovo',average='macro'))\n",
    "f1_score_4 =f1_score(y_test,model_4.predict(x_test_tfidf),average=\"weighted\")\n",
    "print(\"F1 Score for Decision Tree Classifier: %s\" % f1_score_4)"
   ]
  },
  {
   "cell_type": "markdown",
   "id": "d6cdf53e",
   "metadata": {},
   "source": [
    "## Ada Boost Classifier"
   ]
  },
  {
   "cell_type": "code",
   "execution_count": 10,
   "id": "8f17c1e8",
   "metadata": {},
   "outputs": [],
   "source": [
    "model_5 = Pipeline(\n",
    "    steps = [\n",
    "        (\"classifier\", AdaBoostClassifier(estimator=DecisionTreeClassifier(max_depth=4),\n",
    "                                         n_estimators=100,\n",
    "                                         learning_rate=0.8))\n",
    "    ])"
   ]
  },
  {
   "cell_type": "markdown",
   "id": "24fdaa4d",
   "metadata": {},
   "source": [
    "## Training Ada Boost Classifier"
   ]
  },
  {
   "cell_type": "code",
   "execution_count": 11,
   "id": "a108d0d3",
   "metadata": {},
   "outputs": [
    {
     "name": "stderr",
     "output_type": "stream",
     "text": [
      "C:\\Users\\pheno\\anaconda3\\lib\\site-packages\\sklearn\\ensemble\\_base.py:166: FutureWarning: `base_estimator` was renamed to `estimator` in version 1.2 and will be removed in 1.4.\n",
      "  warnings.warn(\n"
     ]
    },
    {
     "name": "stdout",
     "output_type": "stream",
     "text": [
      "CPU times: total: 11min 20s\n",
      "Wall time: 17min 38s\n"
     ]
    },
    {
     "data": {
      "text/html": [
       "<style>#sk-container-id-3 {color: black;background-color: white;}#sk-container-id-3 pre{padding: 0;}#sk-container-id-3 div.sk-toggleable {background-color: white;}#sk-container-id-3 label.sk-toggleable__label {cursor: pointer;display: block;width: 100%;margin-bottom: 0;padding: 0.3em;box-sizing: border-box;text-align: center;}#sk-container-id-3 label.sk-toggleable__label-arrow:before {content: \"▸\";float: left;margin-right: 0.25em;color: #696969;}#sk-container-id-3 label.sk-toggleable__label-arrow:hover:before {color: black;}#sk-container-id-3 div.sk-estimator:hover label.sk-toggleable__label-arrow:before {color: black;}#sk-container-id-3 div.sk-toggleable__content {max-height: 0;max-width: 0;overflow: hidden;text-align: left;background-color: #f0f8ff;}#sk-container-id-3 div.sk-toggleable__content pre {margin: 0.2em;color: black;border-radius: 0.25em;background-color: #f0f8ff;}#sk-container-id-3 input.sk-toggleable__control:checked~div.sk-toggleable__content {max-height: 200px;max-width: 100%;overflow: auto;}#sk-container-id-3 input.sk-toggleable__control:checked~label.sk-toggleable__label-arrow:before {content: \"▾\";}#sk-container-id-3 div.sk-estimator input.sk-toggleable__control:checked~label.sk-toggleable__label {background-color: #d4ebff;}#sk-container-id-3 div.sk-label input.sk-toggleable__control:checked~label.sk-toggleable__label {background-color: #d4ebff;}#sk-container-id-3 input.sk-hidden--visually {border: 0;clip: rect(1px 1px 1px 1px);clip: rect(1px, 1px, 1px, 1px);height: 1px;margin: -1px;overflow: hidden;padding: 0;position: absolute;width: 1px;}#sk-container-id-3 div.sk-estimator {font-family: monospace;background-color: #f0f8ff;border: 1px dotted black;border-radius: 0.25em;box-sizing: border-box;margin-bottom: 0.5em;}#sk-container-id-3 div.sk-estimator:hover {background-color: #d4ebff;}#sk-container-id-3 div.sk-parallel-item::after {content: \"\";width: 100%;border-bottom: 1px solid gray;flex-grow: 1;}#sk-container-id-3 div.sk-label:hover label.sk-toggleable__label {background-color: #d4ebff;}#sk-container-id-3 div.sk-serial::before {content: \"\";position: absolute;border-left: 1px solid gray;box-sizing: border-box;top: 0;bottom: 0;left: 50%;z-index: 0;}#sk-container-id-3 div.sk-serial {display: flex;flex-direction: column;align-items: center;background-color: white;padding-right: 0.2em;padding-left: 0.2em;position: relative;}#sk-container-id-3 div.sk-item {position: relative;z-index: 1;}#sk-container-id-3 div.sk-parallel {display: flex;align-items: stretch;justify-content: center;background-color: white;position: relative;}#sk-container-id-3 div.sk-item::before, #sk-container-id-3 div.sk-parallel-item::before {content: \"\";position: absolute;border-left: 1px solid gray;box-sizing: border-box;top: 0;bottom: 0;left: 50%;z-index: -1;}#sk-container-id-3 div.sk-parallel-item {display: flex;flex-direction: column;z-index: 1;position: relative;background-color: white;}#sk-container-id-3 div.sk-parallel-item:first-child::after {align-self: flex-end;width: 50%;}#sk-container-id-3 div.sk-parallel-item:last-child::after {align-self: flex-start;width: 50%;}#sk-container-id-3 div.sk-parallel-item:only-child::after {width: 0;}#sk-container-id-3 div.sk-dashed-wrapped {border: 1px dashed gray;margin: 0 0.4em 0.5em 0.4em;box-sizing: border-box;padding-bottom: 0.4em;background-color: white;}#sk-container-id-3 div.sk-label label {font-family: monospace;font-weight: bold;display: inline-block;line-height: 1.2em;}#sk-container-id-3 div.sk-label-container {text-align: center;}#sk-container-id-3 div.sk-container {/* jupyter's `normalize.less` sets `[hidden] { display: none; }` but bootstrap.min.css set `[hidden] { display: none !important; }` so we also need the `!important` here to be able to override the default hidden behavior on the sphinx rendered scikit-learn.org. See: https://github.com/scikit-learn/scikit-learn/issues/21755 */display: inline-block !important;position: relative;}#sk-container-id-3 div.sk-text-repr-fallback {display: none;}</style><div id=\"sk-container-id-3\" class=\"sk-top-container\"><div class=\"sk-text-repr-fallback\"><pre>Pipeline(steps=[(&#x27;classifier&#x27;,\n",
       "                 AdaBoostClassifier(base_estimator=DecisionTreeClassifier(max_depth=4),\n",
       "                                    learning_rate=0.8, n_estimators=100))])</pre><b>In a Jupyter environment, please rerun this cell to show the HTML representation or trust the notebook. <br />On GitHub, the HTML representation is unable to render, please try loading this page with nbviewer.org.</b></div><div class=\"sk-container\" hidden><div class=\"sk-item sk-dashed-wrapped\"><div class=\"sk-label-container\"><div class=\"sk-label sk-toggleable\"><input class=\"sk-toggleable__control sk-hidden--visually\" id=\"sk-estimator-id-5\" type=\"checkbox\" ><label for=\"sk-estimator-id-5\" class=\"sk-toggleable__label sk-toggleable__label-arrow\">Pipeline</label><div class=\"sk-toggleable__content\"><pre>Pipeline(steps=[(&#x27;classifier&#x27;,\n",
       "                 AdaBoostClassifier(base_estimator=DecisionTreeClassifier(max_depth=4),\n",
       "                                    learning_rate=0.8, n_estimators=100))])</pre></div></div></div><div class=\"sk-serial\"><div class=\"sk-item sk-dashed-wrapped\"><div class=\"sk-label-container\"><div class=\"sk-label sk-toggleable\"><input class=\"sk-toggleable__control sk-hidden--visually\" id=\"sk-estimator-id-6\" type=\"checkbox\" ><label for=\"sk-estimator-id-6\" class=\"sk-toggleable__label sk-toggleable__label-arrow\">classifier: AdaBoostClassifier</label><div class=\"sk-toggleable__content\"><pre>AdaBoostClassifier(base_estimator=DecisionTreeClassifier(max_depth=4),\n",
       "                   learning_rate=0.8, n_estimators=100)</pre></div></div></div><div class=\"sk-parallel\"><div class=\"sk-parallel-item\"><div class=\"sk-item\"><div class=\"sk-label-container\"><div class=\"sk-label sk-toggleable\"><input class=\"sk-toggleable__control sk-hidden--visually\" id=\"sk-estimator-id-7\" type=\"checkbox\" ><label for=\"sk-estimator-id-7\" class=\"sk-toggleable__label sk-toggleable__label-arrow\">base_estimator: DecisionTreeClassifier</label><div class=\"sk-toggleable__content\"><pre>DecisionTreeClassifier(max_depth=4)</pre></div></div></div><div class=\"sk-serial\"><div class=\"sk-item\"><div class=\"sk-estimator sk-toggleable\"><input class=\"sk-toggleable__control sk-hidden--visually\" id=\"sk-estimator-id-8\" type=\"checkbox\" ><label for=\"sk-estimator-id-8\" class=\"sk-toggleable__label sk-toggleable__label-arrow\">DecisionTreeClassifier</label><div class=\"sk-toggleable__content\"><pre>DecisionTreeClassifier(max_depth=4)</pre></div></div></div></div></div></div></div></div></div></div></div></div>"
      ],
      "text/plain": [
       "Pipeline(steps=[('classifier',\n",
       "                 AdaBoostClassifier(base_estimator=DecisionTreeClassifier(max_depth=4),\n",
       "                                    learning_rate=0.8, n_estimators=100))])"
      ]
     },
     "execution_count": 11,
     "metadata": {},
     "output_type": "execute_result"
    }
   ],
   "source": [
    "%%time\n",
    "model_5.fit(x_train_tfidf, y_train)"
   ]
  },
  {
   "cell_type": "markdown",
   "id": "f2a66308",
   "metadata": {},
   "source": [
    "## Evaluation on test data and training data of Ada boost Classifier"
   ]
  },
  {
   "cell_type": "code",
   "execution_count": 12,
   "id": "f0d91a0d",
   "metadata": {},
   "outputs": [
    {
     "name": "stdout",
     "output_type": "stream",
     "text": [
      "Precision Score on training dateset for Decision Tree Classifier: 0.8473087042967866\n",
      "AUC Score on training dateset for Decision Tree Classifier: 0.9326196480756911\n",
      "F1 Score training dateset for Decision Tree Classifier: 0.8473065296911569\n",
      "Precision Score on test for Decision Tree Classifier: 0.7913772987388188\n",
      "AUC Score on test for Decision Tree Classifier: 0.8679240530794523\n",
      "F1 Score for Decision Tree Classifier: 0.7913784958773983\n",
      "CPU times: total: 57.1 s\n",
      "Wall time: 1min 31s\n"
     ]
    }
   ],
   "source": [
    "%%time\n",
    "print(\"Precision Score on training dateset for Decision Tree Classifier: %s\" % precision_score(y_train,model_5.predict(x_train_tfidf),average='micro'))\n",
    "print(\"AUC Score on training dateset for Decision Tree Classifier: %s\" % roc_auc_score(y_train,model_5.predict_proba(x_train_tfidf)[:,1],multi_class='ovo',average='macro'))\n",
    "f1_score_train_5 =f1_score(y_train,model_5.predict(x_train_tfidf),average=\"weighted\")\n",
    "print(\"F1 Score training dateset for Decision Tree Classifier: %s\" % f1_score_train_5)\n",
    "print(\"Precision Score on test for Decision Tree Classifier: %s\" % precision_score(y_test,model_5.predict(x_test_tfidf),average='micro'))\n",
    "print(\"AUC Score on test for Decision Tree Classifier: %s\" % roc_auc_score(y_test,model_5.predict_proba(x_test_tfidf)[:,1],multi_class='ovo',average='macro'))\n",
    "f1_score_5 =f1_score(y_test,model_5.predict(x_test_tfidf),average=\"weighted\")\n",
    "print(\"F1 Score for Decision Tree Classifier: %s\" % f1_score_5)"
   ]
  },
  {
   "cell_type": "markdown",
   "id": "4175d48e",
   "metadata": {},
   "source": [
    "## Hyperparameter tuning with Grid Search"
   ]
  },
  {
   "cell_type": "code",
   "execution_count": 15,
   "id": "f79609fe",
   "metadata": {},
   "outputs": [],
   "source": [
    "import numpy as np\n",
    "import pandas as pd\n",
    "from sklearn import ensemble\n",
    "from sklearn import metrics\n",
    "from sklearn import model_selection\n",
    "\n",
    "def hyperparamtune(classifier, param_grid, metric, verbose_value, cv):\n",
    "    model = model_selection.GridSearchCV(\n",
    "    estimator=classifier,\n",
    "    param_grid = param_grid,\n",
    "    scoring = metric,\n",
    "    verbose = verbose_value,\n",
    "    cv = cv)\n",
    "    \n",
    "    model.fit(x_train_tfidf, y_train)\n",
    "    print(\"Best Score is %s\" % {model.best_score_})\n",
    "    print(\"Best hyperparameter set:\")\n",
    "    best_parameters = model.best_estimator_.get_params()\n",
    "    for param_name in sorted(param_grid.keys()):\n",
    "        print(f\"\\t{param_name}: {best_parameters[param_name]}\")\n",
    "        \n",
    "    return model, best_parameters"
   ]
  },
  {
   "cell_type": "markdown",
   "id": "c20e7eb8",
   "metadata": {},
   "source": [
    "## Hyperparameter tuning of Logistic Regression"
   ]
  },
  {
   "cell_type": "code",
   "execution_count": 16,
   "id": "1fae5893",
   "metadata": {},
   "outputs": [
    {
     "name": "stdout",
     "output_type": "stream",
     "text": [
      "Fitting 5 folds for each of 48 candidates, totalling 240 fits\n",
      "[CV 1/5; 1/48] START C=0.01, max_iter=100, penalty=l2, tol=0.0001...............\n",
      "[CV 1/5; 1/48] END C=0.01, max_iter=100, penalty=l2, tol=0.0001;, score=0.806 total time=   1.6s\n",
      "[CV 2/5; 1/48] START C=0.01, max_iter=100, penalty=l2, tol=0.0001...............\n",
      "[CV 2/5; 1/48] END C=0.01, max_iter=100, penalty=l2, tol=0.0001;, score=0.807 total time=   1.6s\n",
      "[CV 3/5; 1/48] START C=0.01, max_iter=100, penalty=l2, tol=0.0001...............\n",
      "[CV 3/5; 1/48] END C=0.01, max_iter=100, penalty=l2, tol=0.0001;, score=0.810 total time=   1.1s\n",
      "[CV 4/5; 1/48] START C=0.01, max_iter=100, penalty=l2, tol=0.0001...............\n",
      "[CV 4/5; 1/48] END C=0.01, max_iter=100, penalty=l2, tol=0.0001;, score=0.810 total time=   1.4s\n",
      "[CV 5/5; 1/48] START C=0.01, max_iter=100, penalty=l2, tol=0.0001...............\n",
      "[CV 5/5; 1/48] END C=0.01, max_iter=100, penalty=l2, tol=0.0001;, score=0.804 total time=   1.3s\n",
      "[CV 1/5; 2/48] START C=0.01, max_iter=100, penalty=l2, tol=0.001................\n",
      "[CV 1/5; 2/48] END C=0.01, max_iter=100, penalty=l2, tol=0.001;, score=0.806 total time=   1.4s\n",
      "[CV 2/5; 2/48] START C=0.01, max_iter=100, penalty=l2, tol=0.001................\n",
      "[CV 2/5; 2/48] END C=0.01, max_iter=100, penalty=l2, tol=0.001;, score=0.807 total time=   1.4s\n",
      "[CV 3/5; 2/48] START C=0.01, max_iter=100, penalty=l2, tol=0.001................\n",
      "[CV 3/5; 2/48] END C=0.01, max_iter=100, penalty=l2, tol=0.001;, score=0.810 total time=   1.2s\n",
      "[CV 4/5; 2/48] START C=0.01, max_iter=100, penalty=l2, tol=0.001................\n",
      "[CV 4/5; 2/48] END C=0.01, max_iter=100, penalty=l2, tol=0.001;, score=0.810 total time=   1.2s\n",
      "[CV 5/5; 2/48] START C=0.01, max_iter=100, penalty=l2, tol=0.001................\n",
      "[CV 5/5; 2/48] END C=0.01, max_iter=100, penalty=l2, tol=0.001;, score=0.804 total time=   1.3s\n",
      "[CV 1/5; 3/48] START C=0.01, max_iter=100, penalty=l2, tol=0.01.................\n",
      "[CV 1/5; 3/48] END C=0.01, max_iter=100, penalty=l2, tol=0.01;, score=0.806 total time=   1.5s\n",
      "[CV 2/5; 3/48] START C=0.01, max_iter=100, penalty=l2, tol=0.01.................\n",
      "[CV 2/5; 3/48] END C=0.01, max_iter=100, penalty=l2, tol=0.01;, score=0.807 total time=   1.8s\n",
      "[CV 3/5; 3/48] START C=0.01, max_iter=100, penalty=l2, tol=0.01.................\n",
      "[CV 3/5; 3/48] END C=0.01, max_iter=100, penalty=l2, tol=0.01;, score=0.810 total time=   1.2s\n",
      "[CV 4/5; 3/48] START C=0.01, max_iter=100, penalty=l2, tol=0.01.................\n",
      "[CV 4/5; 3/48] END C=0.01, max_iter=100, penalty=l2, tol=0.01;, score=0.810 total time=   1.2s\n",
      "[CV 5/5; 3/48] START C=0.01, max_iter=100, penalty=l2, tol=0.01.................\n",
      "[CV 5/5; 3/48] END C=0.01, max_iter=100, penalty=l2, tol=0.01;, score=0.804 total time=   1.3s\n",
      "[CV 1/5; 4/48] START C=0.01, max_iter=100, penalty=l1, tol=0.0001...............\n",
      "[CV 1/5; 4/48] END C=0.01, max_iter=100, penalty=l1, tol=0.0001;, score=nan total time=   0.0s\n",
      "[CV 2/5; 4/48] START C=0.01, max_iter=100, penalty=l1, tol=0.0001...............\n",
      "[CV 2/5; 4/48] END C=0.01, max_iter=100, penalty=l1, tol=0.0001;, score=nan total time=   0.1s\n",
      "[CV 3/5; 4/48] START C=0.01, max_iter=100, penalty=l1, tol=0.0001...............\n",
      "[CV 3/5; 4/48] END C=0.01, max_iter=100, penalty=l1, tol=0.0001;, score=nan total time=   0.1s\n",
      "[CV 4/5; 4/48] START C=0.01, max_iter=100, penalty=l1, tol=0.0001...............\n",
      "[CV 4/5; 4/48] END C=0.01, max_iter=100, penalty=l1, tol=0.0001;, score=nan total time=   0.1s\n",
      "[CV 5/5; 4/48] START C=0.01, max_iter=100, penalty=l1, tol=0.0001...............\n",
      "[CV 5/5; 4/48] END C=0.01, max_iter=100, penalty=l1, tol=0.0001;, score=nan total time=   0.1s\n",
      "[CV 1/5; 5/48] START C=0.01, max_iter=100, penalty=l1, tol=0.001................\n",
      "[CV 1/5; 5/48] END C=0.01, max_iter=100, penalty=l1, tol=0.001;, score=nan total time=   0.1s\n",
      "[CV 2/5; 5/48] START C=0.01, max_iter=100, penalty=l1, tol=0.001................\n",
      "[CV 2/5; 5/48] END C=0.01, max_iter=100, penalty=l1, tol=0.001;, score=nan total time=   0.1s\n",
      "[CV 3/5; 5/48] START C=0.01, max_iter=100, penalty=l1, tol=0.001................\n",
      "[CV 3/5; 5/48] END C=0.01, max_iter=100, penalty=l1, tol=0.001;, score=nan total time=   0.1s\n",
      "[CV 4/5; 5/48] START C=0.01, max_iter=100, penalty=l1, tol=0.001................\n",
      "[CV 4/5; 5/48] END C=0.01, max_iter=100, penalty=l1, tol=0.001;, score=nan total time=   0.0s\n",
      "[CV 5/5; 5/48] START C=0.01, max_iter=100, penalty=l1, tol=0.001................\n",
      "[CV 5/5; 5/48] END C=0.01, max_iter=100, penalty=l1, tol=0.001;, score=nan total time=   0.1s\n",
      "[CV 1/5; 6/48] START C=0.01, max_iter=100, penalty=l1, tol=0.01.................\n",
      "[CV 1/5; 6/48] END C=0.01, max_iter=100, penalty=l1, tol=0.01;, score=nan total time=   0.1s\n",
      "[CV 2/5; 6/48] START C=0.01, max_iter=100, penalty=l1, tol=0.01.................\n",
      "[CV 2/5; 6/48] END C=0.01, max_iter=100, penalty=l1, tol=0.01;, score=nan total time=   0.1s\n",
      "[CV 3/5; 6/48] START C=0.01, max_iter=100, penalty=l1, tol=0.01.................\n",
      "[CV 3/5; 6/48] END C=0.01, max_iter=100, penalty=l1, tol=0.01;, score=nan total time=   0.1s\n",
      "[CV 4/5; 6/48] START C=0.01, max_iter=100, penalty=l1, tol=0.01.................\n",
      "[CV 4/5; 6/48] END C=0.01, max_iter=100, penalty=l1, tol=0.01;, score=nan total time=   0.1s\n",
      "[CV 5/5; 6/48] START C=0.01, max_iter=100, penalty=l1, tol=0.01.................\n",
      "[CV 5/5; 6/48] END C=0.01, max_iter=100, penalty=l1, tol=0.01;, score=nan total time=   0.1s\n",
      "[CV 1/5; 7/48] START C=0.01, max_iter=200, penalty=l2, tol=0.0001...............\n",
      "[CV 1/5; 7/48] END C=0.01, max_iter=200, penalty=l2, tol=0.0001;, score=0.806 total time=   1.6s\n",
      "[CV 2/5; 7/48] START C=0.01, max_iter=200, penalty=l2, tol=0.0001...............\n",
      "[CV 2/5; 7/48] END C=0.01, max_iter=200, penalty=l2, tol=0.0001;, score=0.807 total time=   1.3s\n",
      "[CV 3/5; 7/48] START C=0.01, max_iter=200, penalty=l2, tol=0.0001...............\n",
      "[CV 3/5; 7/48] END C=0.01, max_iter=200, penalty=l2, tol=0.0001;, score=0.810 total time=   1.1s\n",
      "[CV 4/5; 7/48] START C=0.01, max_iter=200, penalty=l2, tol=0.0001...............\n",
      "[CV 4/5; 7/48] END C=0.01, max_iter=200, penalty=l2, tol=0.0001;, score=0.810 total time=   1.2s\n",
      "[CV 5/5; 7/48] START C=0.01, max_iter=200, penalty=l2, tol=0.0001...............\n",
      "[CV 5/5; 7/48] END C=0.01, max_iter=200, penalty=l2, tol=0.0001;, score=0.804 total time=   1.5s\n",
      "[CV 1/5; 8/48] START C=0.01, max_iter=200, penalty=l2, tol=0.001................\n",
      "[CV 1/5; 8/48] END C=0.01, max_iter=200, penalty=l2, tol=0.001;, score=0.806 total time=   1.5s\n",
      "[CV 2/5; 8/48] START C=0.01, max_iter=200, penalty=l2, tol=0.001................\n",
      "[CV 2/5; 8/48] END C=0.01, max_iter=200, penalty=l2, tol=0.001;, score=0.807 total time=   1.3s\n",
      "[CV 3/5; 8/48] START C=0.01, max_iter=200, penalty=l2, tol=0.001................\n",
      "[CV 3/5; 8/48] END C=0.01, max_iter=200, penalty=l2, tol=0.001;, score=0.810 total time=   1.2s\n",
      "[CV 4/5; 8/48] START C=0.01, max_iter=200, penalty=l2, tol=0.001................\n",
      "[CV 4/5; 8/48] END C=0.01, max_iter=200, penalty=l2, tol=0.001;, score=0.810 total time=   1.4s\n",
      "[CV 5/5; 8/48] START C=0.01, max_iter=200, penalty=l2, tol=0.001................\n",
      "[CV 5/5; 8/48] END C=0.01, max_iter=200, penalty=l2, tol=0.001;, score=0.804 total time=   1.2s\n",
      "[CV 1/5; 9/48] START C=0.01, max_iter=200, penalty=l2, tol=0.01.................\n",
      "[CV 1/5; 9/48] END C=0.01, max_iter=200, penalty=l2, tol=0.01;, score=0.806 total time=   1.3s\n",
      "[CV 2/5; 9/48] START C=0.01, max_iter=200, penalty=l2, tol=0.01.................\n",
      "[CV 2/5; 9/48] END C=0.01, max_iter=200, penalty=l2, tol=0.01;, score=0.807 total time=   1.4s\n",
      "[CV 3/5; 9/48] START C=0.01, max_iter=200, penalty=l2, tol=0.01.................\n",
      "[CV 3/5; 9/48] END C=0.01, max_iter=200, penalty=l2, tol=0.01;, score=0.810 total time=   1.3s\n",
      "[CV 4/5; 9/48] START C=0.01, max_iter=200, penalty=l2, tol=0.01.................\n",
      "[CV 4/5; 9/48] END C=0.01, max_iter=200, penalty=l2, tol=0.01;, score=0.810 total time=   1.2s\n",
      "[CV 5/5; 9/48] START C=0.01, max_iter=200, penalty=l2, tol=0.01.................\n",
      "[CV 5/5; 9/48] END C=0.01, max_iter=200, penalty=l2, tol=0.01;, score=0.804 total time=   1.3s\n",
      "[CV 1/5; 10/48] START C=0.01, max_iter=200, penalty=l1, tol=0.0001..............\n",
      "[CV 1/5; 10/48] END C=0.01, max_iter=200, penalty=l1, tol=0.0001;, score=nan total time=   0.0s\n",
      "[CV 2/5; 10/48] START C=0.01, max_iter=200, penalty=l1, tol=0.0001..............\n"
     ]
    },
    {
     "name": "stdout",
     "output_type": "stream",
     "text": [
      "[CV 2/5; 10/48] END C=0.01, max_iter=200, penalty=l1, tol=0.0001;, score=nan total time=   0.0s\n",
      "[CV 3/5; 10/48] START C=0.01, max_iter=200, penalty=l1, tol=0.0001..............\n",
      "[CV 3/5; 10/48] END C=0.01, max_iter=200, penalty=l1, tol=0.0001;, score=nan total time=   0.0s\n",
      "[CV 4/5; 10/48] START C=0.01, max_iter=200, penalty=l1, tol=0.0001..............\n",
      "[CV 4/5; 10/48] END C=0.01, max_iter=200, penalty=l1, tol=0.0001;, score=nan total time=   0.0s\n",
      "[CV 5/5; 10/48] START C=0.01, max_iter=200, penalty=l1, tol=0.0001..............\n",
      "[CV 5/5; 10/48] END C=0.01, max_iter=200, penalty=l1, tol=0.0001;, score=nan total time=   0.0s\n",
      "[CV 1/5; 11/48] START C=0.01, max_iter=200, penalty=l1, tol=0.001...............\n",
      "[CV 1/5; 11/48] END C=0.01, max_iter=200, penalty=l1, tol=0.001;, score=nan total time=   0.0s\n",
      "[CV 2/5; 11/48] START C=0.01, max_iter=200, penalty=l1, tol=0.001...............\n",
      "[CV 2/5; 11/48] END C=0.01, max_iter=200, penalty=l1, tol=0.001;, score=nan total time=   0.0s\n",
      "[CV 3/5; 11/48] START C=0.01, max_iter=200, penalty=l1, tol=0.001...............\n",
      "[CV 3/5; 11/48] END C=0.01, max_iter=200, penalty=l1, tol=0.001;, score=nan total time=   0.1s\n",
      "[CV 4/5; 11/48] START C=0.01, max_iter=200, penalty=l1, tol=0.001...............\n",
      "[CV 4/5; 11/48] END C=0.01, max_iter=200, penalty=l1, tol=0.001;, score=nan total time=   0.0s\n",
      "[CV 5/5; 11/48] START C=0.01, max_iter=200, penalty=l1, tol=0.001...............\n",
      "[CV 5/5; 11/48] END C=0.01, max_iter=200, penalty=l1, tol=0.001;, score=nan total time=   0.1s\n",
      "[CV 1/5; 12/48] START C=0.01, max_iter=200, penalty=l1, tol=0.01................\n",
      "[CV 1/5; 12/48] END C=0.01, max_iter=200, penalty=l1, tol=0.01;, score=nan total time=   0.0s\n",
      "[CV 2/5; 12/48] START C=0.01, max_iter=200, penalty=l1, tol=0.01................\n",
      "[CV 2/5; 12/48] END C=0.01, max_iter=200, penalty=l1, tol=0.01;, score=nan total time=   0.0s\n",
      "[CV 3/5; 12/48] START C=0.01, max_iter=200, penalty=l1, tol=0.01................\n",
      "[CV 3/5; 12/48] END C=0.01, max_iter=200, penalty=l1, tol=0.01;, score=nan total time=   0.0s\n",
      "[CV 4/5; 12/48] START C=0.01, max_iter=200, penalty=l1, tol=0.01................\n",
      "[CV 4/5; 12/48] END C=0.01, max_iter=200, penalty=l1, tol=0.01;, score=nan total time=   0.0s\n",
      "[CV 5/5; 12/48] START C=0.01, max_iter=200, penalty=l1, tol=0.01................\n",
      "[CV 5/5; 12/48] END C=0.01, max_iter=200, penalty=l1, tol=0.01;, score=nan total time=   0.0s\n",
      "[CV 1/5; 13/48] START C=0.1, max_iter=100, penalty=l2, tol=0.0001...............\n",
      "[CV 1/5; 13/48] END C=0.1, max_iter=100, penalty=l2, tol=0.0001;, score=0.814 total time=   1.7s\n",
      "[CV 2/5; 13/48] START C=0.1, max_iter=100, penalty=l2, tol=0.0001...............\n",
      "[CV 2/5; 13/48] END C=0.1, max_iter=100, penalty=l2, tol=0.0001;, score=0.816 total time=   1.6s\n",
      "[CV 3/5; 13/48] START C=0.1, max_iter=100, penalty=l2, tol=0.0001...............\n",
      "[CV 3/5; 13/48] END C=0.1, max_iter=100, penalty=l2, tol=0.0001;, score=0.821 total time=   1.4s\n",
      "[CV 4/5; 13/48] START C=0.1, max_iter=100, penalty=l2, tol=0.0001...............\n",
      "[CV 4/5; 13/48] END C=0.1, max_iter=100, penalty=l2, tol=0.0001;, score=0.816 total time=   1.7s\n",
      "[CV 5/5; 13/48] START C=0.1, max_iter=100, penalty=l2, tol=0.0001...............\n",
      "[CV 5/5; 13/48] END C=0.1, max_iter=100, penalty=l2, tol=0.0001;, score=0.814 total time=   1.9s\n",
      "[CV 1/5; 14/48] START C=0.1, max_iter=100, penalty=l2, tol=0.001................\n",
      "[CV 1/5; 14/48] END C=0.1, max_iter=100, penalty=l2, tol=0.001;, score=0.814 total time=   1.6s\n",
      "[CV 2/5; 14/48] START C=0.1, max_iter=100, penalty=l2, tol=0.001................\n",
      "[CV 2/5; 14/48] END C=0.1, max_iter=100, penalty=l2, tol=0.001;, score=0.816 total time=   1.5s\n",
      "[CV 3/5; 14/48] START C=0.1, max_iter=100, penalty=l2, tol=0.001................\n",
      "[CV 3/5; 14/48] END C=0.1, max_iter=100, penalty=l2, tol=0.001;, score=0.821 total time=   1.6s\n",
      "[CV 4/5; 14/48] START C=0.1, max_iter=100, penalty=l2, tol=0.001................\n",
      "[CV 4/5; 14/48] END C=0.1, max_iter=100, penalty=l2, tol=0.001;, score=0.816 total time=   1.8s\n",
      "[CV 5/5; 14/48] START C=0.1, max_iter=100, penalty=l2, tol=0.001................\n",
      "[CV 5/5; 14/48] END C=0.1, max_iter=100, penalty=l2, tol=0.001;, score=0.814 total time=   1.7s\n",
      "[CV 1/5; 15/48] START C=0.1, max_iter=100, penalty=l2, tol=0.01.................\n",
      "[CV 1/5; 15/48] END C=0.1, max_iter=100, penalty=l2, tol=0.01;, score=0.814 total time=   1.7s\n",
      "[CV 2/5; 15/48] START C=0.1, max_iter=100, penalty=l2, tol=0.01.................\n",
      "[CV 2/5; 15/48] END C=0.1, max_iter=100, penalty=l2, tol=0.01;, score=0.816 total time=   1.7s\n",
      "[CV 3/5; 15/48] START C=0.1, max_iter=100, penalty=l2, tol=0.01.................\n",
      "[CV 3/5; 15/48] END C=0.1, max_iter=100, penalty=l2, tol=0.01;, score=0.821 total time=   1.8s\n",
      "[CV 4/5; 15/48] START C=0.1, max_iter=100, penalty=l2, tol=0.01.................\n",
      "[CV 4/5; 15/48] END C=0.1, max_iter=100, penalty=l2, tol=0.01;, score=0.816 total time=   1.5s\n",
      "[CV 5/5; 15/48] START C=0.1, max_iter=100, penalty=l2, tol=0.01.................\n",
      "[CV 5/5; 15/48] END C=0.1, max_iter=100, penalty=l2, tol=0.01;, score=0.814 total time=   1.8s\n",
      "[CV 1/5; 16/48] START C=0.1, max_iter=100, penalty=l1, tol=0.0001...............\n",
      "[CV 1/5; 16/48] END C=0.1, max_iter=100, penalty=l1, tol=0.0001;, score=nan total time=   0.1s\n",
      "[CV 2/5; 16/48] START C=0.1, max_iter=100, penalty=l1, tol=0.0001...............\n",
      "[CV 2/5; 16/48] END C=0.1, max_iter=100, penalty=l1, tol=0.0001;, score=nan total time=   0.0s\n",
      "[CV 3/5; 16/48] START C=0.1, max_iter=100, penalty=l1, tol=0.0001...............\n",
      "[CV 3/5; 16/48] END C=0.1, max_iter=100, penalty=l1, tol=0.0001;, score=nan total time=   0.1s\n",
      "[CV 4/5; 16/48] START C=0.1, max_iter=100, penalty=l1, tol=0.0001...............\n",
      "[CV 4/5; 16/48] END C=0.1, max_iter=100, penalty=l1, tol=0.0001;, score=nan total time=   0.0s\n",
      "[CV 5/5; 16/48] START C=0.1, max_iter=100, penalty=l1, tol=0.0001...............\n",
      "[CV 5/5; 16/48] END C=0.1, max_iter=100, penalty=l1, tol=0.0001;, score=nan total time=   0.1s\n",
      "[CV 1/5; 17/48] START C=0.1, max_iter=100, penalty=l1, tol=0.001................\n",
      "[CV 1/5; 17/48] END C=0.1, max_iter=100, penalty=l1, tol=0.001;, score=nan total time=   0.0s\n",
      "[CV 2/5; 17/48] START C=0.1, max_iter=100, penalty=l1, tol=0.001................\n",
      "[CV 2/5; 17/48] END C=0.1, max_iter=100, penalty=l1, tol=0.001;, score=nan total time=   0.0s\n",
      "[CV 3/5; 17/48] START C=0.1, max_iter=100, penalty=l1, tol=0.001................\n",
      "[CV 3/5; 17/48] END C=0.1, max_iter=100, penalty=l1, tol=0.001;, score=nan total time=   0.0s\n",
      "[CV 4/5; 17/48] START C=0.1, max_iter=100, penalty=l1, tol=0.001................\n",
      "[CV 4/5; 17/48] END C=0.1, max_iter=100, penalty=l1, tol=0.001;, score=nan total time=   0.0s\n",
      "[CV 5/5; 17/48] START C=0.1, max_iter=100, penalty=l1, tol=0.001................\n",
      "[CV 5/5; 17/48] END C=0.1, max_iter=100, penalty=l1, tol=0.001;, score=nan total time=   0.0s\n",
      "[CV 1/5; 18/48] START C=0.1, max_iter=100, penalty=l1, tol=0.01.................\n",
      "[CV 1/5; 18/48] END C=0.1, max_iter=100, penalty=l1, tol=0.01;, score=nan total time=   0.1s\n",
      "[CV 2/5; 18/48] START C=0.1, max_iter=100, penalty=l1, tol=0.01.................\n",
      "[CV 2/5; 18/48] END C=0.1, max_iter=100, penalty=l1, tol=0.01;, score=nan total time=   0.1s\n",
      "[CV 3/5; 18/48] START C=0.1, max_iter=100, penalty=l1, tol=0.01.................\n",
      "[CV 3/5; 18/48] END C=0.1, max_iter=100, penalty=l1, tol=0.01;, score=nan total time=   0.1s\n",
      "[CV 4/5; 18/48] START C=0.1, max_iter=100, penalty=l1, tol=0.01.................\n",
      "[CV 4/5; 18/48] END C=0.1, max_iter=100, penalty=l1, tol=0.01;, score=nan total time=   0.0s\n",
      "[CV 5/5; 18/48] START C=0.1, max_iter=100, penalty=l1, tol=0.01.................\n",
      "[CV 5/5; 18/48] END C=0.1, max_iter=100, penalty=l1, tol=0.01;, score=nan total time=   0.0s\n",
      "[CV 1/5; 19/48] START C=0.1, max_iter=200, penalty=l2, tol=0.0001...............\n",
      "[CV 1/5; 19/48] END C=0.1, max_iter=200, penalty=l2, tol=0.0001;, score=0.814 total time=   1.8s\n",
      "[CV 2/5; 19/48] START C=0.1, max_iter=200, penalty=l2, tol=0.0001...............\n",
      "[CV 2/5; 19/48] END C=0.1, max_iter=200, penalty=l2, tol=0.0001;, score=0.816 total time=   1.6s\n",
      "[CV 3/5; 19/48] START C=0.1, max_iter=200, penalty=l2, tol=0.0001...............\n",
      "[CV 3/5; 19/48] END C=0.1, max_iter=200, penalty=l2, tol=0.0001;, score=0.821 total time=   1.4s\n",
      "[CV 4/5; 19/48] START C=0.1, max_iter=200, penalty=l2, tol=0.0001...............\n"
     ]
    },
    {
     "name": "stdout",
     "output_type": "stream",
     "text": [
      "[CV 4/5; 19/48] END C=0.1, max_iter=200, penalty=l2, tol=0.0001;, score=0.816 total time=   1.6s\n",
      "[CV 5/5; 19/48] START C=0.1, max_iter=200, penalty=l2, tol=0.0001...............\n",
      "[CV 5/5; 19/48] END C=0.1, max_iter=200, penalty=l2, tol=0.0001;, score=0.814 total time=   1.9s\n",
      "[CV 1/5; 20/48] START C=0.1, max_iter=200, penalty=l2, tol=0.001................\n",
      "[CV 1/5; 20/48] END C=0.1, max_iter=200, penalty=l2, tol=0.001;, score=0.814 total time=   1.6s\n",
      "[CV 2/5; 20/48] START C=0.1, max_iter=200, penalty=l2, tol=0.001................\n",
      "[CV 2/5; 20/48] END C=0.1, max_iter=200, penalty=l2, tol=0.001;, score=0.816 total time=   1.5s\n",
      "[CV 3/5; 20/48] START C=0.1, max_iter=200, penalty=l2, tol=0.001................\n",
      "[CV 3/5; 20/48] END C=0.1, max_iter=200, penalty=l2, tol=0.001;, score=0.821 total time=   1.5s\n",
      "[CV 4/5; 20/48] START C=0.1, max_iter=200, penalty=l2, tol=0.001................\n",
      "[CV 4/5; 20/48] END C=0.1, max_iter=200, penalty=l2, tol=0.001;, score=0.816 total time=   1.9s\n",
      "[CV 5/5; 20/48] START C=0.1, max_iter=200, penalty=l2, tol=0.001................\n",
      "[CV 5/5; 20/48] END C=0.1, max_iter=200, penalty=l2, tol=0.001;, score=0.814 total time=   1.6s\n",
      "[CV 1/5; 21/48] START C=0.1, max_iter=200, penalty=l2, tol=0.01.................\n",
      "[CV 1/5; 21/48] END C=0.1, max_iter=200, penalty=l2, tol=0.01;, score=0.814 total time=   1.6s\n",
      "[CV 2/5; 21/48] START C=0.1, max_iter=200, penalty=l2, tol=0.01.................\n",
      "[CV 2/5; 21/48] END C=0.1, max_iter=200, penalty=l2, tol=0.01;, score=0.816 total time=   1.7s\n",
      "[CV 3/5; 21/48] START C=0.1, max_iter=200, penalty=l2, tol=0.01.................\n",
      "[CV 3/5; 21/48] END C=0.1, max_iter=200, penalty=l2, tol=0.01;, score=0.821 total time=   1.9s\n",
      "[CV 4/5; 21/48] START C=0.1, max_iter=200, penalty=l2, tol=0.01.................\n",
      "[CV 4/5; 21/48] END C=0.1, max_iter=200, penalty=l2, tol=0.01;, score=0.816 total time=   1.4s\n",
      "[CV 5/5; 21/48] START C=0.1, max_iter=200, penalty=l2, tol=0.01.................\n",
      "[CV 5/5; 21/48] END C=0.1, max_iter=200, penalty=l2, tol=0.01;, score=0.814 total time=   1.7s\n",
      "[CV 1/5; 22/48] START C=0.1, max_iter=200, penalty=l1, tol=0.0001...............\n",
      "[CV 1/5; 22/48] END C=0.1, max_iter=200, penalty=l1, tol=0.0001;, score=nan total time=   0.1s\n",
      "[CV 2/5; 22/48] START C=0.1, max_iter=200, penalty=l1, tol=0.0001...............\n",
      "[CV 2/5; 22/48] END C=0.1, max_iter=200, penalty=l1, tol=0.0001;, score=nan total time=   0.1s\n",
      "[CV 3/5; 22/48] START C=0.1, max_iter=200, penalty=l1, tol=0.0001...............\n",
      "[CV 3/5; 22/48] END C=0.1, max_iter=200, penalty=l1, tol=0.0001;, score=nan total time=   0.1s\n",
      "[CV 4/5; 22/48] START C=0.1, max_iter=200, penalty=l1, tol=0.0001...............\n",
      "[CV 4/5; 22/48] END C=0.1, max_iter=200, penalty=l1, tol=0.0001;, score=nan total time=   0.0s\n",
      "[CV 5/5; 22/48] START C=0.1, max_iter=200, penalty=l1, tol=0.0001...............\n",
      "[CV 5/5; 22/48] END C=0.1, max_iter=200, penalty=l1, tol=0.0001;, score=nan total time=   0.1s\n",
      "[CV 1/5; 23/48] START C=0.1, max_iter=200, penalty=l1, tol=0.001................\n",
      "[CV 1/5; 23/48] END C=0.1, max_iter=200, penalty=l1, tol=0.001;, score=nan total time=   0.0s\n",
      "[CV 2/5; 23/48] START C=0.1, max_iter=200, penalty=l1, tol=0.001................\n",
      "[CV 2/5; 23/48] END C=0.1, max_iter=200, penalty=l1, tol=0.001;, score=nan total time=   0.0s\n",
      "[CV 3/5; 23/48] START C=0.1, max_iter=200, penalty=l1, tol=0.001................\n",
      "[CV 3/5; 23/48] END C=0.1, max_iter=200, penalty=l1, tol=0.001;, score=nan total time=   0.0s\n",
      "[CV 4/5; 23/48] START C=0.1, max_iter=200, penalty=l1, tol=0.001................\n",
      "[CV 4/5; 23/48] END C=0.1, max_iter=200, penalty=l1, tol=0.001;, score=nan total time=   0.0s\n",
      "[CV 5/5; 23/48] START C=0.1, max_iter=200, penalty=l1, tol=0.001................\n",
      "[CV 5/5; 23/48] END C=0.1, max_iter=200, penalty=l1, tol=0.001;, score=nan total time=   0.0s\n",
      "[CV 1/5; 24/48] START C=0.1, max_iter=200, penalty=l1, tol=0.01.................\n",
      "[CV 1/5; 24/48] END C=0.1, max_iter=200, penalty=l1, tol=0.01;, score=nan total time=   0.0s\n",
      "[CV 2/5; 24/48] START C=0.1, max_iter=200, penalty=l1, tol=0.01.................\n",
      "[CV 2/5; 24/48] END C=0.1, max_iter=200, penalty=l1, tol=0.01;, score=nan total time=   0.0s\n",
      "[CV 3/5; 24/48] START C=0.1, max_iter=200, penalty=l1, tol=0.01.................\n",
      "[CV 3/5; 24/48] END C=0.1, max_iter=200, penalty=l1, tol=0.01;, score=nan total time=   0.0s\n",
      "[CV 4/5; 24/48] START C=0.1, max_iter=200, penalty=l1, tol=0.01.................\n",
      "[CV 4/5; 24/48] END C=0.1, max_iter=200, penalty=l1, tol=0.01;, score=nan total time=   0.0s\n",
      "[CV 5/5; 24/48] START C=0.1, max_iter=200, penalty=l1, tol=0.01.................\n",
      "[CV 5/5; 24/48] END C=0.1, max_iter=200, penalty=l1, tol=0.01;, score=nan total time=   0.0s\n",
      "[CV 1/5; 25/48] START C=1.0, max_iter=100, penalty=l2, tol=0.0001...............\n",
      "[CV 1/5; 25/48] END C=1.0, max_iter=100, penalty=l2, tol=0.0001;, score=0.815 total time=   2.0s\n",
      "[CV 2/5; 25/48] START C=1.0, max_iter=100, penalty=l2, tol=0.0001...............\n",
      "[CV 2/5; 25/48] END C=1.0, max_iter=100, penalty=l2, tol=0.0001;, score=0.815 total time=   2.0s\n",
      "[CV 3/5; 25/48] START C=1.0, max_iter=100, penalty=l2, tol=0.0001...............\n",
      "[CV 3/5; 25/48] END C=1.0, max_iter=100, penalty=l2, tol=0.0001;, score=0.823 total time=   2.0s\n",
      "[CV 4/5; 25/48] START C=1.0, max_iter=100, penalty=l2, tol=0.0001...............\n",
      "[CV 4/5; 25/48] END C=1.0, max_iter=100, penalty=l2, tol=0.0001;, score=0.818 total time=   1.8s\n",
      "[CV 5/5; 25/48] START C=1.0, max_iter=100, penalty=l2, tol=0.0001...............\n",
      "[CV 5/5; 25/48] END C=1.0, max_iter=100, penalty=l2, tol=0.0001;, score=0.814 total time=   2.4s\n",
      "[CV 1/5; 26/48] START C=1.0, max_iter=100, penalty=l2, tol=0.001................\n",
      "[CV 1/5; 26/48] END C=1.0, max_iter=100, penalty=l2, tol=0.001;, score=0.815 total time=   2.2s\n",
      "[CV 2/5; 26/48] START C=1.0, max_iter=100, penalty=l2, tol=0.001................\n",
      "[CV 2/5; 26/48] END C=1.0, max_iter=100, penalty=l2, tol=0.001;, score=0.815 total time=   2.2s\n",
      "[CV 3/5; 26/48] START C=1.0, max_iter=100, penalty=l2, tol=0.001................\n",
      "[CV 3/5; 26/48] END C=1.0, max_iter=100, penalty=l2, tol=0.001;, score=0.823 total time=   2.0s\n",
      "[CV 4/5; 26/48] START C=1.0, max_iter=100, penalty=l2, tol=0.001................\n",
      "[CV 4/5; 26/48] END C=1.0, max_iter=100, penalty=l2, tol=0.001;, score=0.818 total time=   2.2s\n",
      "[CV 5/5; 26/48] START C=1.0, max_iter=100, penalty=l2, tol=0.001................\n",
      "[CV 5/5; 26/48] END C=1.0, max_iter=100, penalty=l2, tol=0.001;, score=0.814 total time=   2.3s\n",
      "[CV 1/5; 27/48] START C=1.0, max_iter=100, penalty=l2, tol=0.01.................\n",
      "[CV 1/5; 27/48] END C=1.0, max_iter=100, penalty=l2, tol=0.01;, score=0.815 total time=   2.1s\n",
      "[CV 2/5; 27/48] START C=1.0, max_iter=100, penalty=l2, tol=0.01.................\n",
      "[CV 2/5; 27/48] END C=1.0, max_iter=100, penalty=l2, tol=0.01;, score=0.815 total time=   2.2s\n",
      "[CV 3/5; 27/48] START C=1.0, max_iter=100, penalty=l2, tol=0.01.................\n",
      "[CV 3/5; 27/48] END C=1.0, max_iter=100, penalty=l2, tol=0.01;, score=0.823 total time=   2.4s\n",
      "[CV 4/5; 27/48] START C=1.0, max_iter=100, penalty=l2, tol=0.01.................\n",
      "[CV 4/5; 27/48] END C=1.0, max_iter=100, penalty=l2, tol=0.01;, score=0.818 total time=   2.0s\n",
      "[CV 5/5; 27/48] START C=1.0, max_iter=100, penalty=l2, tol=0.01.................\n",
      "[CV 5/5; 27/48] END C=1.0, max_iter=100, penalty=l2, tol=0.01;, score=0.814 total time=   2.1s\n",
      "[CV 1/5; 28/48] START C=1.0, max_iter=100, penalty=l1, tol=0.0001...............\n",
      "[CV 1/5; 28/48] END C=1.0, max_iter=100, penalty=l1, tol=0.0001;, score=nan total time=   0.0s\n",
      "[CV 2/5; 28/48] START C=1.0, max_iter=100, penalty=l1, tol=0.0001...............\n",
      "[CV 2/5; 28/48] END C=1.0, max_iter=100, penalty=l1, tol=0.0001;, score=nan total time=   0.0s\n",
      "[CV 3/5; 28/48] START C=1.0, max_iter=100, penalty=l1, tol=0.0001...............\n",
      "[CV 3/5; 28/48] END C=1.0, max_iter=100, penalty=l1, tol=0.0001;, score=nan total time=   0.0s\n",
      "[CV 4/5; 28/48] START C=1.0, max_iter=100, penalty=l1, tol=0.0001...............\n",
      "[CV 4/5; 28/48] END C=1.0, max_iter=100, penalty=l1, tol=0.0001;, score=nan total time=   0.0s\n",
      "[CV 5/5; 28/48] START C=1.0, max_iter=100, penalty=l1, tol=0.0001...............\n",
      "[CV 5/5; 28/48] END C=1.0, max_iter=100, penalty=l1, tol=0.0001;, score=nan total time=   0.0s\n"
     ]
    },
    {
     "name": "stdout",
     "output_type": "stream",
     "text": [
      "[CV 1/5; 29/48] START C=1.0, max_iter=100, penalty=l1, tol=0.001................\n",
      "[CV 1/5; 29/48] END C=1.0, max_iter=100, penalty=l1, tol=0.001;, score=nan total time=   0.1s\n",
      "[CV 2/5; 29/48] START C=1.0, max_iter=100, penalty=l1, tol=0.001................\n",
      "[CV 2/5; 29/48] END C=1.0, max_iter=100, penalty=l1, tol=0.001;, score=nan total time=   0.0s\n",
      "[CV 3/5; 29/48] START C=1.0, max_iter=100, penalty=l1, tol=0.001................\n",
      "[CV 3/5; 29/48] END C=1.0, max_iter=100, penalty=l1, tol=0.001;, score=nan total time=   0.0s\n",
      "[CV 4/5; 29/48] START C=1.0, max_iter=100, penalty=l1, tol=0.001................\n",
      "[CV 4/5; 29/48] END C=1.0, max_iter=100, penalty=l1, tol=0.001;, score=nan total time=   0.0s\n",
      "[CV 5/5; 29/48] START C=1.0, max_iter=100, penalty=l1, tol=0.001................\n",
      "[CV 5/5; 29/48] END C=1.0, max_iter=100, penalty=l1, tol=0.001;, score=nan total time=   0.0s\n",
      "[CV 1/5; 30/48] START C=1.0, max_iter=100, penalty=l1, tol=0.01.................\n",
      "[CV 1/5; 30/48] END C=1.0, max_iter=100, penalty=l1, tol=0.01;, score=nan total time=   0.1s\n",
      "[CV 2/5; 30/48] START C=1.0, max_iter=100, penalty=l1, tol=0.01.................\n",
      "[CV 2/5; 30/48] END C=1.0, max_iter=100, penalty=l1, tol=0.01;, score=nan total time=   0.0s\n",
      "[CV 3/5; 30/48] START C=1.0, max_iter=100, penalty=l1, tol=0.01.................\n",
      "[CV 3/5; 30/48] END C=1.0, max_iter=100, penalty=l1, tol=0.01;, score=nan total time=   0.0s\n",
      "[CV 4/5; 30/48] START C=1.0, max_iter=100, penalty=l1, tol=0.01.................\n",
      "[CV 4/5; 30/48] END C=1.0, max_iter=100, penalty=l1, tol=0.01;, score=nan total time=   0.0s\n",
      "[CV 5/5; 30/48] START C=1.0, max_iter=100, penalty=l1, tol=0.01.................\n",
      "[CV 5/5; 30/48] END C=1.0, max_iter=100, penalty=l1, tol=0.01;, score=nan total time=   0.0s\n",
      "[CV 1/5; 31/48] START C=1.0, max_iter=200, penalty=l2, tol=0.0001...............\n",
      "[CV 1/5; 31/48] END C=1.0, max_iter=200, penalty=l2, tol=0.0001;, score=0.815 total time=   2.1s\n",
      "[CV 2/5; 31/48] START C=1.0, max_iter=200, penalty=l2, tol=0.0001...............\n",
      "[CV 2/5; 31/48] END C=1.0, max_iter=200, penalty=l2, tol=0.0001;, score=0.815 total time=   2.2s\n",
      "[CV 3/5; 31/48] START C=1.0, max_iter=200, penalty=l2, tol=0.0001...............\n",
      "[CV 3/5; 31/48] END C=1.0, max_iter=200, penalty=l2, tol=0.0001;, score=0.823 total time=   2.1s\n",
      "[CV 4/5; 31/48] START C=1.0, max_iter=200, penalty=l2, tol=0.0001...............\n",
      "[CV 4/5; 31/48] END C=1.0, max_iter=200, penalty=l2, tol=0.0001;, score=0.818 total time=   1.8s\n",
      "[CV 5/5; 31/48] START C=1.0, max_iter=200, penalty=l2, tol=0.0001...............\n",
      "[CV 5/5; 31/48] END C=1.0, max_iter=200, penalty=l2, tol=0.0001;, score=0.814 total time=   2.4s\n",
      "[CV 1/5; 32/48] START C=1.0, max_iter=200, penalty=l2, tol=0.001................\n",
      "[CV 1/5; 32/48] END C=1.0, max_iter=200, penalty=l2, tol=0.001;, score=0.815 total time=   2.0s\n",
      "[CV 2/5; 32/48] START C=1.0, max_iter=200, penalty=l2, tol=0.001................\n",
      "[CV 2/5; 32/48] END C=1.0, max_iter=200, penalty=l2, tol=0.001;, score=0.815 total time=   1.9s\n",
      "[CV 3/5; 32/48] START C=1.0, max_iter=200, penalty=l2, tol=0.001................\n",
      "[CV 3/5; 32/48] END C=1.0, max_iter=200, penalty=l2, tol=0.001;, score=0.823 total time=   2.0s\n",
      "[CV 4/5; 32/48] START C=1.0, max_iter=200, penalty=l2, tol=0.001................\n",
      "[CV 4/5; 32/48] END C=1.0, max_iter=200, penalty=l2, tol=0.001;, score=0.818 total time=   2.1s\n",
      "[CV 5/5; 32/48] START C=1.0, max_iter=200, penalty=l2, tol=0.001................\n",
      "[CV 5/5; 32/48] END C=1.0, max_iter=200, penalty=l2, tol=0.001;, score=0.814 total time=   1.9s\n",
      "[CV 1/5; 33/48] START C=1.0, max_iter=200, penalty=l2, tol=0.01.................\n",
      "[CV 1/5; 33/48] END C=1.0, max_iter=200, penalty=l2, tol=0.01;, score=0.815 total time=   2.0s\n",
      "[CV 2/5; 33/48] START C=1.0, max_iter=200, penalty=l2, tol=0.01.................\n",
      "[CV 2/5; 33/48] END C=1.0, max_iter=200, penalty=l2, tol=0.01;, score=0.815 total time=   2.0s\n",
      "[CV 3/5; 33/48] START C=1.0, max_iter=200, penalty=l2, tol=0.01.................\n",
      "[CV 3/5; 33/48] END C=1.0, max_iter=200, penalty=l2, tol=0.01;, score=0.823 total time=   2.4s\n",
      "[CV 4/5; 33/48] START C=1.0, max_iter=200, penalty=l2, tol=0.01.................\n",
      "[CV 4/5; 33/48] END C=1.0, max_iter=200, penalty=l2, tol=0.01;, score=0.818 total time=   1.6s\n",
      "[CV 5/5; 33/48] START C=1.0, max_iter=200, penalty=l2, tol=0.01.................\n",
      "[CV 5/5; 33/48] END C=1.0, max_iter=200, penalty=l2, tol=0.01;, score=0.814 total time=   1.8s\n",
      "[CV 1/5; 34/48] START C=1.0, max_iter=200, penalty=l1, tol=0.0001...............\n",
      "[CV 1/5; 34/48] END C=1.0, max_iter=200, penalty=l1, tol=0.0001;, score=nan total time=   0.0s\n",
      "[CV 2/5; 34/48] START C=1.0, max_iter=200, penalty=l1, tol=0.0001...............\n",
      "[CV 2/5; 34/48] END C=1.0, max_iter=200, penalty=l1, tol=0.0001;, score=nan total time=   0.0s\n",
      "[CV 3/5; 34/48] START C=1.0, max_iter=200, penalty=l1, tol=0.0001...............\n",
      "[CV 3/5; 34/48] END C=1.0, max_iter=200, penalty=l1, tol=0.0001;, score=nan total time=   0.0s\n",
      "[CV 4/5; 34/48] START C=1.0, max_iter=200, penalty=l1, tol=0.0001...............\n",
      "[CV 4/5; 34/48] END C=1.0, max_iter=200, penalty=l1, tol=0.0001;, score=nan total time=   0.1s\n",
      "[CV 5/5; 34/48] START C=1.0, max_iter=200, penalty=l1, tol=0.0001...............\n",
      "[CV 5/5; 34/48] END C=1.0, max_iter=200, penalty=l1, tol=0.0001;, score=nan total time=   0.0s\n",
      "[CV 1/5; 35/48] START C=1.0, max_iter=200, penalty=l1, tol=0.001................\n",
      "[CV 1/5; 35/48] END C=1.0, max_iter=200, penalty=l1, tol=0.001;, score=nan total time=   0.0s\n",
      "[CV 2/5; 35/48] START C=1.0, max_iter=200, penalty=l1, tol=0.001................\n",
      "[CV 2/5; 35/48] END C=1.0, max_iter=200, penalty=l1, tol=0.001;, score=nan total time=   0.0s\n",
      "[CV 3/5; 35/48] START C=1.0, max_iter=200, penalty=l1, tol=0.001................\n",
      "[CV 3/5; 35/48] END C=1.0, max_iter=200, penalty=l1, tol=0.001;, score=nan total time=   0.0s\n",
      "[CV 4/5; 35/48] START C=1.0, max_iter=200, penalty=l1, tol=0.001................\n",
      "[CV 4/5; 35/48] END C=1.0, max_iter=200, penalty=l1, tol=0.001;, score=nan total time=   0.0s\n",
      "[CV 5/5; 35/48] START C=1.0, max_iter=200, penalty=l1, tol=0.001................\n",
      "[CV 5/5; 35/48] END C=1.0, max_iter=200, penalty=l1, tol=0.001;, score=nan total time=   0.0s\n",
      "[CV 1/5; 36/48] START C=1.0, max_iter=200, penalty=l1, tol=0.01.................\n",
      "[CV 1/5; 36/48] END C=1.0, max_iter=200, penalty=l1, tol=0.01;, score=nan total time=   0.0s\n",
      "[CV 2/5; 36/48] START C=1.0, max_iter=200, penalty=l1, tol=0.01.................\n",
      "[CV 2/5; 36/48] END C=1.0, max_iter=200, penalty=l1, tol=0.01;, score=nan total time=   0.1s\n",
      "[CV 3/5; 36/48] START C=1.0, max_iter=200, penalty=l1, tol=0.01.................\n",
      "[CV 3/5; 36/48] END C=1.0, max_iter=200, penalty=l1, tol=0.01;, score=nan total time=   0.0s\n",
      "[CV 4/5; 36/48] START C=1.0, max_iter=200, penalty=l1, tol=0.01.................\n",
      "[CV 4/5; 36/48] END C=1.0, max_iter=200, penalty=l1, tol=0.01;, score=nan total time=   0.0s\n",
      "[CV 5/5; 36/48] START C=1.0, max_iter=200, penalty=l1, tol=0.01.................\n",
      "[CV 5/5; 36/48] END C=1.0, max_iter=200, penalty=l1, tol=0.01;, score=nan total time=   0.0s\n",
      "[CV 1/5; 37/48] START C=10, max_iter=100, penalty=l2, tol=0.0001................\n",
      "[CV 1/5; 37/48] END C=10, max_iter=100, penalty=l2, tol=0.0001;, score=0.815 total time=   2.0s\n",
      "[CV 2/5; 37/48] START C=10, max_iter=100, penalty=l2, tol=0.0001................\n",
      "[CV 2/5; 37/48] END C=10, max_iter=100, penalty=l2, tol=0.0001;, score=0.815 total time=   1.9s\n",
      "[CV 3/5; 37/48] START C=10, max_iter=100, penalty=l2, tol=0.0001................\n",
      "[CV 3/5; 37/48] END C=10, max_iter=100, penalty=l2, tol=0.0001;, score=0.823 total time=   1.9s\n",
      "[CV 4/5; 37/48] START C=10, max_iter=100, penalty=l2, tol=0.0001................\n",
      "[CV 4/5; 37/48] END C=10, max_iter=100, penalty=l2, tol=0.0001;, score=0.817 total time=   2.2s\n",
      "[CV 5/5; 37/48] START C=10, max_iter=100, penalty=l2, tol=0.0001................\n",
      "[CV 5/5; 37/48] END C=10, max_iter=100, penalty=l2, tol=0.0001;, score=0.813 total time=   2.3s\n",
      "[CV 1/5; 38/48] START C=10, max_iter=100, penalty=l2, tol=0.001.................\n",
      "[CV 1/5; 38/48] END C=10, max_iter=100, penalty=l2, tol=0.001;, score=0.815 total time=   1.8s\n",
      "[CV 2/5; 38/48] START C=10, max_iter=100, penalty=l2, tol=0.001.................\n",
      "[CV 2/5; 38/48] END C=10, max_iter=100, penalty=l2, tol=0.001;, score=0.815 total time=   1.8s\n",
      "[CV 3/5; 38/48] START C=10, max_iter=100, penalty=l2, tol=0.001.................\n"
     ]
    },
    {
     "name": "stdout",
     "output_type": "stream",
     "text": [
      "[CV 3/5; 38/48] END C=10, max_iter=100, penalty=l2, tol=0.001;, score=0.823 total time=   1.9s\n",
      "[CV 4/5; 38/48] START C=10, max_iter=100, penalty=l2, tol=0.001.................\n",
      "[CV 4/5; 38/48] END C=10, max_iter=100, penalty=l2, tol=0.001;, score=0.817 total time=   2.3s\n",
      "[CV 5/5; 38/48] START C=10, max_iter=100, penalty=l2, tol=0.001.................\n",
      "[CV 5/5; 38/48] END C=10, max_iter=100, penalty=l2, tol=0.001;, score=0.813 total time=   2.1s\n",
      "[CV 1/5; 39/48] START C=10, max_iter=100, penalty=l2, tol=0.01..................\n",
      "[CV 1/5; 39/48] END C=10, max_iter=100, penalty=l2, tol=0.01;, score=0.815 total time=   1.9s\n",
      "[CV 2/5; 39/48] START C=10, max_iter=100, penalty=l2, tol=0.01..................\n",
      "[CV 2/5; 39/48] END C=10, max_iter=100, penalty=l2, tol=0.01;, score=0.815 total time=   1.9s\n",
      "[CV 3/5; 39/48] START C=10, max_iter=100, penalty=l2, tol=0.01..................\n",
      "[CV 3/5; 39/48] END C=10, max_iter=100, penalty=l2, tol=0.01;, score=0.823 total time=   2.3s\n",
      "[CV 4/5; 39/48] START C=10, max_iter=100, penalty=l2, tol=0.01..................\n",
      "[CV 4/5; 39/48] END C=10, max_iter=100, penalty=l2, tol=0.01;, score=0.817 total time=   2.0s\n",
      "[CV 5/5; 39/48] START C=10, max_iter=100, penalty=l2, tol=0.01..................\n",
      "[CV 5/5; 39/48] END C=10, max_iter=100, penalty=l2, tol=0.01;, score=0.813 total time=   2.1s\n",
      "[CV 1/5; 40/48] START C=10, max_iter=100, penalty=l1, tol=0.0001................\n",
      "[CV 1/5; 40/48] END C=10, max_iter=100, penalty=l1, tol=0.0001;, score=nan total time=   0.0s\n",
      "[CV 2/5; 40/48] START C=10, max_iter=100, penalty=l1, tol=0.0001................\n",
      "[CV 2/5; 40/48] END C=10, max_iter=100, penalty=l1, tol=0.0001;, score=nan total time=   0.0s\n",
      "[CV 3/5; 40/48] START C=10, max_iter=100, penalty=l1, tol=0.0001................\n",
      "[CV 3/5; 40/48] END C=10, max_iter=100, penalty=l1, tol=0.0001;, score=nan total time=   0.0s\n",
      "[CV 4/5; 40/48] START C=10, max_iter=100, penalty=l1, tol=0.0001................\n",
      "[CV 4/5; 40/48] END C=10, max_iter=100, penalty=l1, tol=0.0001;, score=nan total time=   0.1s\n",
      "[CV 5/5; 40/48] START C=10, max_iter=100, penalty=l1, tol=0.0001................\n",
      "[CV 5/5; 40/48] END C=10, max_iter=100, penalty=l1, tol=0.0001;, score=nan total time=   0.0s\n",
      "[CV 1/5; 41/48] START C=10, max_iter=100, penalty=l1, tol=0.001.................\n",
      "[CV 1/5; 41/48] END C=10, max_iter=100, penalty=l1, tol=0.001;, score=nan total time=   0.0s\n",
      "[CV 2/5; 41/48] START C=10, max_iter=100, penalty=l1, tol=0.001.................\n",
      "[CV 2/5; 41/48] END C=10, max_iter=100, penalty=l1, tol=0.001;, score=nan total time=   0.0s\n",
      "[CV 3/5; 41/48] START C=10, max_iter=100, penalty=l1, tol=0.001.................\n",
      "[CV 3/5; 41/48] END C=10, max_iter=100, penalty=l1, tol=0.001;, score=nan total time=   0.0s\n",
      "[CV 4/5; 41/48] START C=10, max_iter=100, penalty=l1, tol=0.001.................\n",
      "[CV 4/5; 41/48] END C=10, max_iter=100, penalty=l1, tol=0.001;, score=nan total time=   0.1s\n",
      "[CV 5/5; 41/48] START C=10, max_iter=100, penalty=l1, tol=0.001.................\n",
      "[CV 5/5; 41/48] END C=10, max_iter=100, penalty=l1, tol=0.001;, score=nan total time=   0.0s\n",
      "[CV 1/5; 42/48] START C=10, max_iter=100, penalty=l1, tol=0.01..................\n",
      "[CV 1/5; 42/48] END C=10, max_iter=100, penalty=l1, tol=0.01;, score=nan total time=   0.1s\n",
      "[CV 2/5; 42/48] START C=10, max_iter=100, penalty=l1, tol=0.01..................\n",
      "[CV 2/5; 42/48] END C=10, max_iter=100, penalty=l1, tol=0.01;, score=nan total time=   0.1s\n",
      "[CV 3/5; 42/48] START C=10, max_iter=100, penalty=l1, tol=0.01..................\n",
      "[CV 3/5; 42/48] END C=10, max_iter=100, penalty=l1, tol=0.01;, score=nan total time=   0.0s\n",
      "[CV 4/5; 42/48] START C=10, max_iter=100, penalty=l1, tol=0.01..................\n",
      "[CV 4/5; 42/48] END C=10, max_iter=100, penalty=l1, tol=0.01;, score=nan total time=   0.0s\n",
      "[CV 5/5; 42/48] START C=10, max_iter=100, penalty=l1, tol=0.01..................\n",
      "[CV 5/5; 42/48] END C=10, max_iter=100, penalty=l1, tol=0.01;, score=nan total time=   0.0s\n",
      "[CV 1/5; 43/48] START C=10, max_iter=200, penalty=l2, tol=0.0001................\n",
      "[CV 1/5; 43/48] END C=10, max_iter=200, penalty=l2, tol=0.0001;, score=0.815 total time=   2.1s\n",
      "[CV 2/5; 43/48] START C=10, max_iter=200, penalty=l2, tol=0.0001................\n",
      "[CV 2/5; 43/48] END C=10, max_iter=200, penalty=l2, tol=0.0001;, score=0.815 total time=   1.9s\n",
      "[CV 3/5; 43/48] START C=10, max_iter=200, penalty=l2, tol=0.0001................\n",
      "[CV 3/5; 43/48] END C=10, max_iter=200, penalty=l2, tol=0.0001;, score=0.823 total time=   2.0s\n",
      "[CV 4/5; 43/48] START C=10, max_iter=200, penalty=l2, tol=0.0001................\n",
      "[CV 4/5; 43/48] END C=10, max_iter=200, penalty=l2, tol=0.0001;, score=0.817 total time=   2.1s\n",
      "[CV 5/5; 43/48] START C=10, max_iter=200, penalty=l2, tol=0.0001................\n",
      "[CV 5/5; 43/48] END C=10, max_iter=200, penalty=l2, tol=0.0001;, score=0.813 total time=   2.4s\n",
      "[CV 1/5; 44/48] START C=10, max_iter=200, penalty=l2, tol=0.001.................\n",
      "[CV 1/5; 44/48] END C=10, max_iter=200, penalty=l2, tol=0.001;, score=0.815 total time=   1.8s\n",
      "[CV 2/5; 44/48] START C=10, max_iter=200, penalty=l2, tol=0.001.................\n",
      "[CV 2/5; 44/48] END C=10, max_iter=200, penalty=l2, tol=0.001;, score=0.815 total time=   1.9s\n",
      "[CV 3/5; 44/48] START C=10, max_iter=200, penalty=l2, tol=0.001.................\n",
      "[CV 3/5; 44/48] END C=10, max_iter=200, penalty=l2, tol=0.001;, score=0.823 total time=   2.0s\n",
      "[CV 4/5; 44/48] START C=10, max_iter=200, penalty=l2, tol=0.001.................\n",
      "[CV 4/5; 44/48] END C=10, max_iter=200, penalty=l2, tol=0.001;, score=0.817 total time=   2.3s\n",
      "[CV 5/5; 44/48] START C=10, max_iter=200, penalty=l2, tol=0.001.................\n",
      "[CV 5/5; 44/48] END C=10, max_iter=200, penalty=l2, tol=0.001;, score=0.813 total time=   2.1s\n",
      "[CV 1/5; 45/48] START C=10, max_iter=200, penalty=l2, tol=0.01..................\n",
      "[CV 1/5; 45/48] END C=10, max_iter=200, penalty=l2, tol=0.01;, score=0.815 total time=   1.9s\n",
      "[CV 2/5; 45/48] START C=10, max_iter=200, penalty=l2, tol=0.01..................\n",
      "[CV 2/5; 45/48] END C=10, max_iter=200, penalty=l2, tol=0.01;, score=0.815 total time=   2.0s\n",
      "[CV 3/5; 45/48] START C=10, max_iter=200, penalty=l2, tol=0.01..................\n",
      "[CV 3/5; 45/48] END C=10, max_iter=200, penalty=l2, tol=0.01;, score=0.823 total time=   2.2s\n",
      "[CV 4/5; 45/48] START C=10, max_iter=200, penalty=l2, tol=0.01..................\n",
      "[CV 4/5; 45/48] END C=10, max_iter=200, penalty=l2, tol=0.01;, score=0.817 total time=   2.0s\n",
      "[CV 5/5; 45/48] START C=10, max_iter=200, penalty=l2, tol=0.01..................\n",
      "[CV 5/5; 45/48] END C=10, max_iter=200, penalty=l2, tol=0.01;, score=0.813 total time=   2.0s\n",
      "[CV 1/5; 46/48] START C=10, max_iter=200, penalty=l1, tol=0.0001................\n",
      "[CV 1/5; 46/48] END C=10, max_iter=200, penalty=l1, tol=0.0001;, score=nan total time=   0.0s\n",
      "[CV 2/5; 46/48] START C=10, max_iter=200, penalty=l1, tol=0.0001................\n",
      "[CV 2/5; 46/48] END C=10, max_iter=200, penalty=l1, tol=0.0001;, score=nan total time=   0.0s\n",
      "[CV 3/5; 46/48] START C=10, max_iter=200, penalty=l1, tol=0.0001................\n",
      "[CV 3/5; 46/48] END C=10, max_iter=200, penalty=l1, tol=0.0001;, score=nan total time=   0.0s\n",
      "[CV 4/5; 46/48] START C=10, max_iter=200, penalty=l1, tol=0.0001................\n",
      "[CV 4/5; 46/48] END C=10, max_iter=200, penalty=l1, tol=0.0001;, score=nan total time=   0.1s\n",
      "[CV 5/5; 46/48] START C=10, max_iter=200, penalty=l1, tol=0.0001................\n",
      "[CV 5/5; 46/48] END C=10, max_iter=200, penalty=l1, tol=0.0001;, score=nan total time=   0.0s\n",
      "[CV 1/5; 47/48] START C=10, max_iter=200, penalty=l1, tol=0.001.................\n",
      "[CV 1/5; 47/48] END C=10, max_iter=200, penalty=l1, tol=0.001;, score=nan total time=   0.0s\n",
      "[CV 2/5; 47/48] START C=10, max_iter=200, penalty=l1, tol=0.001.................\n",
      "[CV 2/5; 47/48] END C=10, max_iter=200, penalty=l1, tol=0.001;, score=nan total time=   0.1s\n",
      "[CV 3/5; 47/48] START C=10, max_iter=200, penalty=l1, tol=0.001.................\n",
      "[CV 3/5; 47/48] END C=10, max_iter=200, penalty=l1, tol=0.001;, score=nan total time=   0.0s\n",
      "[CV 4/5; 47/48] START C=10, max_iter=200, penalty=l1, tol=0.001.................\n",
      "[CV 4/5; 47/48] END C=10, max_iter=200, penalty=l1, tol=0.001;, score=nan total time=   0.0s\n",
      "[CV 5/5; 47/48] START C=10, max_iter=200, penalty=l1, tol=0.001.................\n"
     ]
    },
    {
     "name": "stdout",
     "output_type": "stream",
     "text": [
      "[CV 5/5; 47/48] END C=10, max_iter=200, penalty=l1, tol=0.001;, score=nan total time=   0.0s\n",
      "[CV 1/5; 48/48] START C=10, max_iter=200, penalty=l1, tol=0.01..................\n",
      "[CV 1/5; 48/48] END C=10, max_iter=200, penalty=l1, tol=0.01;, score=nan total time=   0.0s\n",
      "[CV 2/5; 48/48] START C=10, max_iter=200, penalty=l1, tol=0.01..................\n",
      "[CV 2/5; 48/48] END C=10, max_iter=200, penalty=l1, tol=0.01;, score=nan total time=   0.0s\n",
      "[CV 3/5; 48/48] START C=10, max_iter=200, penalty=l1, tol=0.01..................\n",
      "[CV 3/5; 48/48] END C=10, max_iter=200, penalty=l1, tol=0.01;, score=nan total time=   0.0s\n",
      "[CV 4/5; 48/48] START C=10, max_iter=200, penalty=l1, tol=0.01..................\n",
      "[CV 4/5; 48/48] END C=10, max_iter=200, penalty=l1, tol=0.01;, score=nan total time=   0.0s\n",
      "[CV 5/5; 48/48] START C=10, max_iter=200, penalty=l1, tol=0.01..................\n",
      "[CV 5/5; 48/48] END C=10, max_iter=200, penalty=l1, tol=0.01;, score=nan total time=   0.1s\n"
     ]
    },
    {
     "name": "stderr",
     "output_type": "stream",
     "text": [
      "C:\\Users\\pheno\\anaconda3\\lib\\site-packages\\sklearn\\model_selection\\_validation.py:378: FitFailedWarning: \n",
      "120 fits failed out of a total of 240.\n",
      "The score on these train-test partitions for these parameters will be set to nan.\n",
      "If these failures are not expected, you can try to debug them by setting error_score='raise'.\n",
      "\n",
      "Below are more details about the failures:\n",
      "--------------------------------------------------------------------------------\n",
      "120 fits failed with the following error:\n",
      "Traceback (most recent call last):\n",
      "  File \"C:\\Users\\pheno\\anaconda3\\lib\\site-packages\\sklearn\\model_selection\\_validation.py\", line 686, in _fit_and_score\n",
      "    estimator.fit(X_train, y_train, **fit_params)\n",
      "  File \"C:\\Users\\pheno\\anaconda3\\lib\\site-packages\\sklearn\\linear_model\\_logistic.py\", line 1162, in fit\n",
      "    solver = _check_solver(self.solver, self.penalty, self.dual)\n",
      "  File \"C:\\Users\\pheno\\anaconda3\\lib\\site-packages\\sklearn\\linear_model\\_logistic.py\", line 54, in _check_solver\n",
      "    raise ValueError(\n",
      "ValueError: Solver lbfgs supports only 'l2' or 'none' penalties, got l1 penalty.\n",
      "\n",
      "  warnings.warn(some_fits_failed_message, FitFailedWarning)\n",
      "C:\\Users\\pheno\\anaconda3\\lib\\site-packages\\sklearn\\model_selection\\_search.py:952: UserWarning: One or more of the test scores are non-finite: [0.80748395 0.80748395 0.80748395        nan        nan        nan\n",
      " 0.80748395 0.80748395 0.80748395        nan        nan        nan\n",
      " 0.81617513 0.81617513 0.81617513        nan        nan        nan\n",
      " 0.81617513 0.81617513 0.81617513        nan        nan        nan\n",
      " 0.81677042 0.81677042 0.81677042        nan        nan        nan\n",
      " 0.81677042 0.81677042 0.81677042        nan        nan        nan\n",
      " 0.81649657 0.81649657 0.81649657        nan        nan        nan\n",
      " 0.81649657 0.81649657 0.81649657        nan        nan        nan]\n",
      "  warnings.warn(\n"
     ]
    },
    {
     "name": "stdout",
     "output_type": "stream",
     "text": [
      "Best Score is {0.8167704180680619}\n",
      "Best hyperparameter set:\n",
      "\tC: 1.0\n",
      "\tmax_iter: 100\n",
      "\tpenalty: l2\n",
      "\ttol: 0.0001\n",
      "CPU times: total: 4min 45s\n",
      "Wall time: 4min 12s\n"
     ]
    }
   ],
   "source": [
    "%%time\n",
    "param_gd = {\"penalty\":[\"l2\", \"l1\"],\n",
    "           \"C\":[0.01, 0.1, 1.0, 10],\n",
    "           \"tol\":[0.0001, 0.001, 0.01],\n",
    "           \"max_iter\":[100, 200]}\n",
    "\n",
    "model_7, best_param = hyperparamtune(LogisticRegression(), param_gd, \"accuracy\", 10, 5)"
   ]
  },
  {
   "cell_type": "markdown",
   "id": "56058987",
   "metadata": {},
   "source": [
    "## Evaluation of Fine tuned Logistic Regression"
   ]
  },
  {
   "cell_type": "code",
   "execution_count": 18,
   "id": "688bac8f",
   "metadata": {},
   "outputs": [
    {
     "name": "stdout",
     "output_type": "stream",
     "text": [
      "Precision Score on training dateset for Decision Tree Classifier: 0.8209255533199196\n",
      "AUC Score on training dateset for Decision Tree Classifier: 0.9031046217459942\n",
      "F1 Score training dateset for Decision Tree Classifier: 0.8209152673654605\n",
      "Precision Score on test for Decision Tree Classifier: 0.8154341907883771\n",
      "AUC Score on test for Decision Tree Classifier: 0.8980153356644363\n",
      "F1 Score for Decision Tree Classifier: 0.8154319597973213\n",
      "CPU times: total: 4.55 s\n",
      "Wall time: 5.9 s\n"
     ]
    }
   ],
   "source": [
    "%%time\n",
    "print(\"Precision Score on training dateset for Decision Tree Classifier: %s\" % precision_score(y_train,model_7.predict(x_train_tfidf),average='micro'))\n",
    "print(\"AUC Score on training dateset for Decision Tree Classifier: %s\" % roc_auc_score(y_train,model_7.predict_proba(x_train_tfidf)[:,1],multi_class='ovo',average='macro'))\n",
    "f1_score_train_7 =f1_score(y_train,model_7.predict(x_train_tfidf),average=\"weighted\")\n",
    "print(\"F1 Score training dateset for Decision Tree Classifier: %s\" % f1_score_train_7)\n",
    "print(\"Precision Score on test for Decision Tree Classifier: %s\" % precision_score(y_test,model_7.predict(x_test_tfidf),average='micro'))\n",
    "print(\"AUC Score on test for Decision Tree Classifier: %s\" % roc_auc_score(y_test,model_7.predict_proba(x_test_tfidf)[:,1],multi_class='ovo',average='macro'))\n",
    "f1_score_7 =f1_score(y_test,model_7.predict(x_test_tfidf),average=\"weighted\")\n",
    "print(\"F1 Score for Decision Tree Classifier: %s\" % f1_score_7)"
   ]
  },
  {
   "cell_type": "markdown",
   "id": "768265a5",
   "metadata": {},
   "source": [
    "## Hyperparameter Tunning for Random Forest Classifier"
   ]
  },
  {
   "cell_type": "code",
   "execution_count": null,
   "id": "73a71176",
   "metadata": {},
   "outputs": [],
   "source": [
    "# This will take around 2 hours of time\n",
    "%%time\n",
    "#Define grid of hyper parameters\n",
    "param_gd={\"n_estimators\":[100,200,300],\n",
    "         \"max_depth\":[11,13,17,19,23],\n",
    "         \"criterion\":[\"gini\",\"entropy\"],\n",
    "         \"min_samples_split\":[3,7,11],\n",
    "         \"min_samples_leaf\":[3,5],\n",
    "         \"max_features\":[\"sqrt\", \"log2\"]}\n",
    "\n",
    "model_8, best_param_8 = hyperparamtune(RandomForestClassifier(),param_gd,\"accuracy\",10,5)"
   ]
  },
  {
   "cell_type": "markdown",
   "id": "c0f54546",
   "metadata": {},
   "source": [
    "## Evaluation of fine tuned Random Forest Classifier"
   ]
  },
  {
   "cell_type": "code",
   "execution_count": null,
   "id": "d7f819f6",
   "metadata": {},
   "outputs": [],
   "source": [
    "%%time\n",
    "print(\"Precision Score on training dateset for Finetuned Random Forest Classifier: %s\" % precision_score(y_train,model_8.predict(x_train_tfidf),average='micro'))\n",
    "print(\"AUC Score on training dateset for Finetuned Random Forest Classifier: %s\" % roc_auc_score(y_train,model_8.predict_proba(x_train_tfidf)[:,1],multi_class='ovo',average='macro'))\n",
    "f1_score_train_8 =f1_score(y_train,model_8.predict(x_train_tfidf),average=\"weighted\")\n",
    "print(\"F1 Score training dateset for Finetuned Random Forest Classifier: %s\" % f1_score_train_8)\n",
    "print(\"Precision Score on test for Finetuned Random Forest Classifier: %s\" % precision_score(y_test,model_8.predict(x_test_tfidf),average='micro'))\n",
    "print(\"AUC Score on test for Finetuned Random Forest Classifier: %s\" % roc_auc_score(y_test,model_8.predict_proba(x_test_tfidf)[:,1],multi_class='ovo',average='macro'))\n",
    "f1_score_8 =f1_score(y_test,model_8.predict(x_test_tfidf),average=\"weighted\")\n",
    "print(\"F1 Score for Finetuned Random Forest Classifier: %s\" % f1_score_8)"
   ]
  },
  {
   "cell_type": "code",
   "execution_count": null,
   "id": "524ede77",
   "metadata": {},
   "outputs": [],
   "source": [
    "# hyperparameter tuning of ada boost will take around 8-9 hours of time\n",
    "best_score = 0\n",
    "model = None\n",
    "if ((f1_score_1>f1_score_2) & (f1_score_1>f1_score_3) & (f1_score_1>f1_score_4) & (f1_score_1>f1_score_5)& (f1_score_1>f1_score_7)&(f1_score_1>f1_score_8)):\n",
    "    model = model_1\n",
    "    print(\"Logsitics Regression is providing best F1 score: %f\" % f1_score_1)\n",
    "elif((f1_score_2>f1_score_1) & (f1_score_2>f1_score_3) & (f1_score_2>f1_score_4) & (f1_score_2>f1_score_5)& (f1_score_2>f1_score_7)&(f1_score_2>f1_score_8)):\n",
    "    model = model_2\n",
    "    print(\" Over fit Decision Tree is providing best F1 score: %f\" % f1_score_2)\n",
    "elif((f1_score_3>f1_score_1) & (f1_score_3>f1_score_2) & (f1_score_3>f1_score_4)&(f1_score_3>f1_score_5)& (f1_score_3>f1_score_7)&(f1_score_3>f1_score_8)):\n",
    "    model = model_3\n",
    "    print(\"Decision Tree is providing best F1 score: %f\" % f1_score_3)\n",
    "elif((f1_score_4>f1_score_1) & (f1_score_4>f1_score_2) & (f1_score_4>f1_score_3)&(f1_score_4>f1_score_5)& (f1_score_4>f1_score_7)&(f1_score_4>f1_score_8)):\n",
    "    model = model_4\n",
    "    print(\"Random Forest is providing best F1 score: %f\" % f1_score_4)\n",
    "elif((f1_score_5>f1_score_1) & (f1_score_5>f1_score_2) & (f1_score_5>f1_score_4)&(f1_score_5>f1_score_3)& (f1_score_5>f1_score_7)&(f1_score_5>f1_score_8)):\n",
    "    model = model_5\n",
    "    print(\"Adaboost Classifier is providing best F1 score: %f\" % f1_score_5)\n",
    "elif((f1_score_7>f1_score_1) & (f1_score_7>f1_score_2) & (f1_score_7>f1_score_4)&(f1_score_7>f1_score_3)& (f1_score_7>f1_score_5)&(f1_score_7>f1_score_8)):\n",
    "    model = model_7\n",
    "    print(\"Finetuned Logsitics Regression Classifier is providing best F1 score: %f\" % f1_score_7)\n",
    "elif((f1_score_8>f1_score_1) & (f1_score_8>f1_score_2) & (f1_score_8>f1_score_4)&(f1_score_8>f1_score_3)& (f1_score_8>f1_score_7)&(f1_score_8>f1_score_5)):\n",
    "    model = model_8\n",
    "    print(\"Finetuned Random Forest Classifier is providing best F1 score: %f\" % f1_score_8)\n",
    "else:\n",
    "    print(\"No Model is selected, Train again\")"
   ]
  },
  {
   "cell_type": "code",
   "execution_count": null,
   "id": "9932b216",
   "metadata": {},
   "outputs": [],
   "source": []
  }
 ],
 "metadata": {
  "kernelspec": {
   "display_name": "Python 3 (ipykernel)",
   "language": "python",
   "name": "python3"
  },
  "language_info": {
   "codemirror_mode": {
    "name": "ipython",
    "version": 3
   },
   "file_extension": ".py",
   "mimetype": "text/x-python",
   "name": "python",
   "nbconvert_exporter": "python",
   "pygments_lexer": "ipython3",
   "version": "3.8.16"
  }
 },
 "nbformat": 4,
 "nbformat_minor": 5
}
